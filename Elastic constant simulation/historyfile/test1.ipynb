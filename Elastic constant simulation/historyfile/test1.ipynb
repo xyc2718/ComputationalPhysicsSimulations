{
 "cells": [
  {
   "cell_type": "code",
   "execution_count": 4,
   "metadata": {},
   "outputs": [
    {
     "name": "stderr",
     "output_type": "stream",
     "text": [
      "WARNING: replacing module Model.\n",
      "WARNING: using Model.Atom in module Main conflicts with an existing identifier.\n",
      "WARNING: using Model.UnitCell in module Main conflicts with an existing identifier.\n",
      "WARNING: using Model.copycell in module Main conflicts with an existing identifier.\n",
      "WARNING: using Model.visualize_unitcell_atoms in module Main conflicts with an existing identifier.\n",
      "WARNING: using Model.Interaction in module Main conflicts with an existing identifier.\n"
     ]
    }
   ],
   "source": [
    "include(\"modle.jl\")\n",
    "using .Model\n",
    "using StaticArrays\n",
    "# using Plots\n",
    "using LinearAlgebra\n",
    "# using Makie\n",
    "using GLMakie "
   ]
  },
  {
   "cell_type": "code",
   "execution_count": 2,
   "metadata": {},
   "outputs": [],
   "source": [
    "# 定义铜的晶格常数（单位：Å）\n",
    "lattice_constant = 3.61\n",
    "\n",
    "# 定义铜的FCC晶胞的基矢量\n",
    "lattice_vectors = (Matrix([\n",
    "    lattice_constant 0.0 0.0; #a1\n",
    "    0.0 lattice_constant 0.0; #a2\n",
    "    0.0 0.0 lattice_constant] #a3\n",
    "))'\n",
    "\n",
    "# 定义铜的FCC晶胞中的原子位置（单位：Å）\n",
    "atom_positions = [\n",
    "    Vector([0.0, 0.0, 0.0]),\n",
    "    Vector([0.0, 0.5, 0.5]),\n",
    "    Vector([0.5, 0.0, 0.5]),\n",
    "    Vector([0.5, 0.5, 0.0]),\n",
    "    Vector([1.0, 0.0, 0.0]),\n",
    "    Vector([0.0, 1.0, 0.0]),\n",
    "    Vector([0.0, 0.0, 1.0]),\n",
    "    Vector([0.5, 1.0, 0.5]),\n",
    "    Vector([1.0, 0.5, 0.5]),\n",
    "    Vector([0.5, 0.5, 1.0]),\n",
    "    Vector([1.0, 0.0, 1.0]),\n",
    "    Vector([1.0, 1.0, 0.0]),\n",
    "    Vector([0.0, 1.0, 1.0]),\n",
    "    Vector([1.0, 1.0, 1.0])\n",
    "] \n",
    "\n",
    "# 创建铜的原子列表\n",
    "atoms = [Atom(pos) for pos in atom_positions]\n",
    "\n",
    "cell=UnitCell(lattice_vectors,atoms)\n",
    "cpcell=copycell(cell,10,10,10)\n",
    "fig=visualize_unitcell_atoms(cpcell);"
   ]
  },
  {
   "cell_type": "code",
   "execution_count": 3,
   "metadata": {},
   "outputs": [],
   "source": [
    "#lj势能\n",
    "function lj(r::Float64)\n",
    "    return 4*(1/r^12-1/r^6)\n",
    "end\n",
    "function Flj(r::Vector{Float64})\n",
    "    rn=norm(r)\n",
    "    return 24*(2/rn^14-1/rn^8)*r\n",
    "end\n",
    "\n",
    "\n",
    "interaction = Interaction(lj, Flj, 10.0, 0.1)\n",
    "\n",
    "x=1:0.001:10\n",
    "y=interaction.cutenerge.(x)\n",
    "lines(x,y)"
   ]
  },
  {
   "cell_type": "code",
   "execution_count": 4,
   "metadata": {},
   "outputs": [
    {
     "data": {
      "text/plain": [
       "cell_energeij (generic function with 1 method)"
      ]
     },
     "metadata": {},
     "output_type": "display_data"
    }
   ],
   "source": [
    "function cell_energeij(cell::UnitCell,interaction::Interaction,i::Int,j::Int;ifnormlize::Bool=true,maxiter::Int=-1,tol::Float64=1e-3)\n",
    "\n",
    "    cutoff=interaction.cutoff\n",
    "    atomi=cell.atoms[i]\n",
    "    atomj=cell.atoms[j]\n",
    "    a,b,c=cell.copy\n",
    "    if maxiter==-1\n",
    "        maxiter=Int(ceil(cutoff/minimum((cell.lattice_vectors*Vector([1,1,1])))))+1\n",
    "    end\n",
    "    cni=atomi.cn\n",
    "    rij=atomj.position-atomi.position\n",
    "    rij_lt=cell.lattice_vectors*rij\n",
    "\n",
    "    energe=-interaction.cutenerge(norm(rij_lt))\n",
    "    for ci in 0:maxiter\n",
    "        for bi in 0:maxiter\n",
    "            for ai in 0:maxiter\n",
    "                rij=atomj.position-atomi.position+ai*Vector([a,0,0])+bi*Vector([0,b,0])+ci*Vector([0,0,c])\n",
    "                rij_lt=cell.lattice_vectors*rij\n",
    "                r=norm(rij_lt)\n",
    "        \n",
    "                if r>cutoff\n",
    "                    break\n",
    "                end\n",
    "                if r<tol\n",
    "                    continue\n",
    "                end\n",
    "                energe+=interaction.cutenerge(r)\n",
    "            end\n",
    "        \n",
    "        end\n",
    "\n",
    "    end\n",
    "    for ci in 0:-1:-maxiter\n",
    "        for bi in 0:-1:-maxiter\n",
    "            for ai in 0:-1:-maxiter\n",
    "                rij=atomj.position-atomi.position+ai*Vector([a,0,0])+bi*Vector([0,b,0])+ci*Vector([0,0,c])\n",
    "                rij_lt=cell.lattice_vectors*rij\n",
    "                r=norm(rij_lt)\n",
    "                if r>cutoff\n",
    "                    break\n",
    "                end\n",
    "                if r<tol\n",
    "                    continue\n",
    "                end\n",
    "                energe+=interaction.cutenerge(r)\n",
    "            end\n",
    "        end\n",
    "\n",
    "    end\n",
    "    if ifnormlize\n",
    "        energe=energe/cni\n",
    "    end\n",
    "    return energe\n",
    "end"
   ]
  },
  {
   "cell_type": "code",
   "execution_count": 5,
   "metadata": {},
   "outputs": [
    {
     "data": {
      "text/plain": [
       "-0.001806427418713431"
      ]
     },
     "metadata": {},
     "output_type": "display_data"
    }
   ],
   "source": [
    "cell_energeij(cpcell,interaction,1,2;ifnormlize=false)"
   ]
  },
  {
   "cell_type": "code",
   "execution_count": 6,
   "metadata": {},
   "outputs": [
    {
     "data": {
      "text/plain": [
       "cell_energe (generic function with 1 method)"
      ]
     },
     "metadata": {},
     "output_type": "display_data"
    }
   ],
   "source": [
    "function cell_energe(cell::UnitCell,interaction::Interaction;ifnormlize::Bool=true,maxiter::Int=-1,tol::Float64=1e-3)\n",
    "    energe=0.0\n",
    "    for i in 1:length(cell.atoms)\n",
    "        for j in 1:length(cell.atoms)\n",
    "            if i!=j\n",
    "                energe+=cell_energeij(cell,interaction,i,j,ifnormlize=ifnormlize,maxiter=maxiter,tol=tol)\n",
    "            end\n",
    "        end\n",
    "    end\n",
    "    return energe\n",
    "end"
   ]
  },
  {
   "cell_type": "code",
   "execution_count": 19,
   "metadata": {},
   "outputs": [],
   "source": [
    "el=Vector{Float64}([])\n",
    "lattice_constant = 3.61\n",
    "cl=1.3:0.01:2.5\n",
    "en=0\n",
    "for lattice_constant in cl\n",
    "    # 定义铜的FCC晶胞的基矢量\n",
    "    lattice_vectors = (Matrix([\n",
    "        lattice_constant 0.0 0.0; #a1\n",
    "        0.0 lattice_constant 0.0; #a2\n",
    "        0.0 0.0 lattice_constant] #a3\n",
    "    ))\n",
    "    # 创建铜的原子列表\n",
    "    atoms = [Atom(pos) for pos in atom_positions]\n",
    "\n",
    "    cell=UnitCell(lattice_vectors,atoms)\n",
    "    cpcell=copycell(cell,5,5,5)\n",
    "    en=cell_energe(cell,interaction,ifnormlize=true)\n",
    "    push!(el,en)\n",
    "end\n"
   ]
  },
  {
   "cell_type": "code",
   "execution_count": 20,
   "metadata": {},
   "outputs": [],
   "source": [
    "# 创建一个新的 Figure\n",
    "fig = Figure()\n",
    "\n",
    "# 创建一个 Axis，并设置坐标范围\n",
    "ax = Axis(fig[1, 1], title = \"Line Plot\", xlabel = \"X-Axis\", ylabel = \"Y-Axis\",\n",
    "          )\n",
    "\n",
    "lines!(ax,cl,el)\n",
    "# ylims!(ax, -0.001, 0.001)\n",
    "\n",
    "fig"
   ]
  },
  {
   "cell_type": "code",
   "execution_count": null,
   "metadata": {},
   "outputs": [],
   "source": []
  }
 ],
 "metadata": {
  "kernelspec": {
   "display_name": "Julia 1.10.5",
   "language": "julia",
   "name": "julia-1.10"
  },
  "language_info": {
   "file_extension": ".jl",
   "mimetype": "application/julia",
   "name": "julia",
   "version": "1.10.5"
  }
 },
 "nbformat": 4,
 "nbformat_minor": 2
}
