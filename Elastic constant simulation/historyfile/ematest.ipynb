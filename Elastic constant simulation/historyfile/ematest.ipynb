{
 "cells": [
  {
   "cell_type": "code",
   "execution_count": 1,
   "metadata": {},
   "outputs": [
    {
     "data": {
      "text/plain": [
       "14-element Vector{Atom}:\n",
       " Atom([0.0, 0.0, 0.0], [0.0, 0.0, 0.0], 1.0, 1, [0, 0, 0])\n",
       " Atom([0.0, 0.5, 0.5], [0.0, 0.0, 0.0], 1.0, 1, [0, 0, 0])\n",
       " Atom([0.5, 0.0, 0.5], [0.0, 0.0, 0.0], 1.0, 1, [0, 0, 0])\n",
       " Atom([0.5, 0.5, 0.0], [0.0, 0.0, 0.0], 1.0, 1, [0, 0, 0])\n",
       " Atom([1.0, 0.0, 0.0], [0.0, 0.0, 0.0], 1.0, 1, [0, 0, 0])\n",
       " Atom([0.0, 1.0, 0.0], [0.0, 0.0, 0.0], 1.0, 1, [0, 0, 0])\n",
       " Atom([0.0, 0.0, 1.0], [0.0, 0.0, 0.0], 1.0, 1, [0, 0, 0])\n",
       " Atom([0.5, 1.0, 0.5], [0.0, 0.0, 0.0], 1.0, 1, [0, 0, 0])\n",
       " Atom([1.0, 0.5, 0.5], [0.0, 0.0, 0.0], 1.0, 1, [0, 0, 0])\n",
       " Atom([0.5, 0.5, 1.0], [0.0, 0.0, 0.0], 1.0, 1, [0, 0, 0])\n",
       " Atom([1.0, 0.0, 1.0], [0.0, 0.0, 0.0], 1.0, 1, [0, 0, 0])\n",
       " Atom([1.0, 1.0, 0.0], [0.0, 0.0, 0.0], 1.0, 1, [0, 0, 0])\n",
       " Atom([0.0, 1.0, 1.0], [0.0, 0.0, 0.0], 1.0, 1, [0, 0, 0])\n",
       " Atom([1.0, 1.0, 1.0], [0.0, 0.0, 0.0], 1.0, 1, [0, 0, 0])"
      ]
     },
     "metadata": {},
     "output_type": "display_data"
    }
   ],
   "source": [
    "using StaticArrays\n",
    "# using Plots\n",
    "using LinearAlgebra\n",
    "# using Makie\n",
    "using GLMakie \n",
    "using LsqFit\n",
    "include(\"Elastic.jl\")\n",
    "using .Elastic\n",
    "using FFMPEG\n",
    "using DelimitedFiles\n",
    "using Distributions\n",
    "using Statistics\n",
    "using Plots\n",
    "atom_positions = [\n",
    "    Vector([0.0, 0.0, 0.0]),\n",
    "    Vector([0.0, 0.5, 0.5]),\n",
    "    Vector([0.5, 0.0, 0.5]),\n",
    "    Vector([0.5, 0.5, 0.0]),\n",
    "    Vector([1.0, 0.0, 0.0]),\n",
    "    Vector([0.0, 1.0, 0.0]),\n",
    "    Vector([0.0, 0.0, 1.0]),\n",
    "    Vector([0.5, 1.0, 0.5]),\n",
    "    Vector([1.0, 0.5, 0.5]),\n",
    "    Vector([0.5, 0.5, 1.0]),\n",
    "    Vector([1.0, 0.0, 1.0]),\n",
    "    Vector([1.0, 1.0, 0.0]),\n",
    "    Vector([0.0, 1.0, 1.0]),\n",
    "    Vector([1.0, 1.0, 1.0])\n",
    "] \n",
    "\n",
    "\n",
    "lattice_constant = 3.61\n",
    "# 定义铜的FCC晶胞的基矢量\n",
    "lattice_vectors = collect((Matrix([\n",
    "    lattice_constant 0.0 0.0; #a1\n",
    "    0.0 lattice_constant 0.0; #a2\n",
    "    0.0 0.0 lattice_constant] #a3\n",
    "))')\n",
    "\n",
    "# 创建铜的原子列表\n",
    "atoms = [Atom(pos) for pos in atom_positions]"
   ]
  },
  {
   "cell_type": "code",
   "execution_count": 69,
   "metadata": {},
   "outputs": [
    {
     "data": {
      "text/plain": [
       "UnitCell([3.61 0.0 0.0; 0.0 3.61 0.0; 0.0 0.0 3.61], Atom[Atom([0.0, 0.0, 0.0], [0.0, 0.0, 0.0], 1.0, 8, [1, 1, 1]), Atom([0.0, 0.0, 1.0], [0.0, 0.0, 0.0], 1.0, 4, [1, 1, 0]), Atom([0.0, 0.0, 2.0], [0.0, 0.0, 0.0], 1.0, 4, [1, 1, 0]), Atom([0.0, 0.0, 3.0], [0.0, 0.0, 0.0], 1.0, 4, [1, 1, 0]), Atom([0.0, 0.0, 4.0], [0.0, 0.0, 0.0], 1.0, 4, [1, 1, 0]), Atom([0.0, 0.0, 5.0], [0.0, 0.0, 0.0], 1.0, 4, [1, 1, 0]), Atom([0.0, 1.0, 0.0], [0.0, 0.0, 0.0], 1.0, 4, [1, 0, 1]), Atom([0.0, 1.0, 1.0], [0.0, 0.0, 0.0], 1.0, 2, [1, 0, 0]), Atom([0.0, 1.0, 2.0], [0.0, 0.0, 0.0], 1.0, 2, [1, 0, 0]), Atom([0.0, 1.0, 3.0], [0.0, 0.0, 0.0], 1.0, 2, [1, 0, 0])  …  Atom([5.5, 4.5, 2.0], [0.0, 0.0, 0.0], 1.0, 1, [0, 0, 0]), Atom([5.5, 4.5, 3.0], [0.0, 0.0, 0.0], 1.0, 1, [0, 0, 0]), Atom([5.5, 4.5, 4.0], [0.0, 0.0, 0.0], 1.0, 1, [0, 0, 0]), Atom([5.5, 4.5, 5.0], [0.0, 0.0, 0.0], 1.0, 1, [0, 0, 0]), Atom([5.5, 5.5, 0.0], [0.0, 0.0, 0.0], 1.0, 2, [0, 0, 1]), Atom([5.5, 5.5, 1.0], [0.0, 0.0, 0.0], 1.0, 1, [0, 0, 0]), Atom([5.5, 5.5, 2.0], [0.0, 0.0, 0.0], 1.0, 1, [0, 0, 0]), Atom([5.5, 5.5, 3.0], [0.0, 0.0, 0.0], 1.0, 1, [0, 0, 0]), Atom([5.5, 5.5, 4.0], [0.0, 0.0, 0.0], 1.0, 1, [0, 0, 0]), Atom([5.5, 5.5, 5.0], [0.0, 0.0, 0.0], 1.0, 1, [0, 0, 0])], [6, 6, 6], 10161.910295999998)"
      ]
     },
     "metadata": {},
     "output_type": "display_data"
    }
   ],
   "source": [
    "cell=UnitCell(lattice_vectors,atoms)\n",
    "cpcell=copycell(cell,6,6,6)\n",
    "fcell=filtercell(cpcell)"
   ]
  },
  {
   "cell_type": "code",
   "execution_count": 70,
   "metadata": {},
   "outputs": [
    {
     "data": {
      "text/plain": [
       "2.555"
      ]
     },
     "metadata": {},
     "output_type": "display_data"
    }
   ],
   "source": [
    "##Cu:\n",
    "beta0=3.83\n",
    "beta1=2.2\n",
    "beta2=6.0\n",
    "beta3=2.2\n",
    "t1=2.72\n",
    "t2=3.04\n",
    "t3=1.95 \n",
    "B=1.420 #eV\n",
    "A=0.94\n",
    "Ec=3.54\n",
    "Re=2.555"
   ]
  },
  {
   "cell_type": "code",
   "execution_count": 71,
   "metadata": {},
   "outputs": [
    {
     "data": {
      "text/plain": [
       "rhoa (generic function with 1 method)"
      ]
     },
     "metadata": {},
     "output_type": "display_data"
    }
   ],
   "source": [
    "function  rhoa(R::Float64,beta::Float64,Re::Float64)\n",
    "    return exp(-beta*(R/Re-1))\n",
    "end"
   ]
  },
  {
   "cell_type": "code",
   "execution_count": 72,
   "metadata": {},
   "outputs": [
    {
     "data": {
      "text/plain": [
       "rho0 (generic function with 3 methods)"
      ]
     },
     "metadata": {},
     "output_type": "display_data"
    }
   ],
   "source": [
    "function rho0(cell::UnitCell,i::Int,beta0::Float64=beta0,Re::Float64=Re;rc::Float64=10.0)\n",
    "natom=length(cell.atoms)\n",
    "ltv=cell.lattice_vectors\n",
    "re=0.0\n",
    "for j=1:natom\n",
    "    if i!=j\n",
    "        nrij=norm(ltv*(cell.atoms[j].position-cell.atoms[i].position))\n",
    "        if nrij<rc\n",
    "            re+=rhoa(nrij,beta0,Re)\n",
    "            # println(\"nrij=$nrij,i:$i,j:$j\")\n",
    "        end\n",
    "    end\n",
    "end\n",
    "return re\n",
    "end"
   ]
  },
  {
   "cell_type": "code",
   "execution_count": 73,
   "metadata": {},
   "outputs": [
    {
     "data": {
      "text/plain": [
       "rho1sq (generic function with 3 methods)"
      ]
     },
     "metadata": {},
     "output_type": "display_data"
    }
   ],
   "source": [
    "function rho1sq(cell::UnitCell,i::Int,beta1::Float64=beta1,Re::Float64=Re;rc::Float64=10.0)\n",
    "natom=length(cell.atoms)\n",
    "ltv=cell.lattice_vectors\n",
    "ree=0.0\n",
    "for a in 1:3\n",
    "re=0.0\n",
    " for j in 1:natom\n",
    "    if i!=j\n",
    "        rij=(ltv*(cell.atoms[j].position-cell.atoms[i].position))\n",
    "        nrij=norm(rij)\n",
    "        if nrij<rc\n",
    "            re+=rhoa(norm(rij),beta1,Re)*rij[a]/nrij\n",
    "        end\n",
    "    end\n",
    " end\n",
    "ree+=re^2\n",
    "end\n",
    "return ree\n",
    "end"
   ]
  },
  {
   "cell_type": "code",
   "execution_count": 74,
   "metadata": {},
   "outputs": [
    {
     "data": {
      "text/plain": [
       "rho2sq (generic function with 3 methods)"
      ]
     },
     "metadata": {},
     "output_type": "display_data"
    }
   ],
   "source": [
    "function rho2sq(cell::UnitCell,i::Int,beta2::Float64=beta2,Re::Float64=Re;rc::Float64=10.0)\n",
    "natom=length(cell.atoms)\n",
    "ltv=cell.lattice_vectors\n",
    "ree=0.0\n",
    "re2=0.0\n",
    "    for a in 1:3\n",
    "        for b in 1:3\n",
    "            re=0.0\n",
    "            for j in 1:natom\n",
    "                if i!=j\n",
    "                    rij=(ltv*(cell.atoms[j].position-cell.atoms[i].position))\n",
    "                    nrij=norm(rij)\n",
    "                    if nrij<rc\n",
    "                        re+=rhoa(nrij,beta2,Re)*rij[a]*rij[b]/nrij^2\n",
    "                    end\n",
    "\n",
    "                    # if a==1&&b==1&&(nrij<rc)\n",
    "                    #     re2+=rhoa(nrij,beta2,Re)\n",
    "                    # end\n",
    "\n",
    "                end\n",
    "            end\n",
    "            ree+=re^2\n",
    "        end\n",
    "    end\n",
    "    return ree-(re2^2)/3\n",
    "end"
   ]
  },
  {
   "cell_type": "code",
   "execution_count": 75,
   "metadata": {},
   "outputs": [
    {
     "data": {
      "text/plain": [
       "rho3sq (generic function with 3 methods)"
      ]
     },
     "metadata": {},
     "output_type": "display_data"
    }
   ],
   "source": [
    "function rho3sq(cell::UnitCell,i::Int,beta3::Float64=beta3,Re::Float64=Re;rc::Float64=10.0)\n",
    "\n",
    "natom=length(cell.atoms)\n",
    "ltv=cell.lattice_vectors\n",
    "reaa=0.0\n",
    "re=0.0\n",
    "for c=1:3\n",
    "    for b=1:3\n",
    "        for a=1:3\n",
    "            ree=0.0\n",
    "            rea=0.0\n",
    "            for j in 1:natom\n",
    "                if i!=j\n",
    "                    rij=(ltv*(cell.atoms[j].position-cell.atoms[i].position))\n",
    "                    nrij=norm(rij)\n",
    "                    if nrij<rc\n",
    "                        ree+=rhoa(nrij,beta3,Re)*rij[a]*rij[b]*rij[c]/nrij^3\n",
    "\n",
    "                        if b==1&&c==1&&(nrij<rc)\n",
    "                            rea+=rhoa(nrij,beta3,Re)*rij[a]/nrij\n",
    "                        end\n",
    "                    end\n",
    "                end\n",
    "            end\n",
    "            if b==1&&c==1\n",
    "                reaa+=rea^2\n",
    "            end\n",
    "            re+=ree^2\n",
    "        end\n",
    "    end\n",
    "\n",
    "end\n",
    "return re-reaa*0.6\n",
    "end"
   ]
  },
  {
   "cell_type": "code",
   "execution_count": 76,
   "metadata": {},
   "outputs": [
    {
     "data": {
      "text/plain": [
       "gammai (generic function with 4 methods)"
      ]
     },
     "metadata": {},
     "output_type": "display_data"
    }
   ],
   "source": [
    "function gammai(cell::UnitCell,i::Int,t::Vector{Float64}=[t1,t2,t3],beta::Vector{Float64}=[beta0,beta1,beta2,beta3],Re::Float64=Re;rc::Float64=10.0)\n",
    "    g=0.0\n",
    "  \n",
    "    g=t[1]*(rho1sq(cell,i,beta[2],Re,rc=rc))+t[2]*(rho2sq(cell,i,beta[3],Re,rc=rc))+t[3]*(rho3sq(cell,i,beta[4],Re,rc=rc))\n",
    " \n",
    "   \n",
    "    return g/rho0(cell,i,beta[1],Re,rc=rc)^2\n",
    "end"
   ]
  },
  {
   "cell_type": "code",
   "execution_count": 77,
   "metadata": {},
   "outputs": [
    {
     "data": {
      "text/plain": [
       "rhoi (generic function with 4 methods)"
      ]
     },
     "metadata": {},
     "output_type": "display_data"
    }
   ],
   "source": [
    "function rhoi(cell::UnitCell,i::Int,t::Vector{Float64}=[t1,t2,t3],beta::Vector{Float64}=[beta0,beta1,beta2,beta3],Re::Float64=Re;rc::Float64=10.0)\n",
    "    return rho0(cell,i,beta[1],Re,rc=rc)*2/(1+exp(-gammai(cell,i,t,beta,Re,rc=rc))) \n",
    "end"
   ]
  },
  {
   "cell_type": "code",
   "execution_count": 78,
   "metadata": {},
   "outputs": [
    {
     "data": {
      "text/plain": [
       "drhoa (generic function with 1 method)"
      ]
     },
     "metadata": {},
     "output_type": "display_data"
    }
   ],
   "source": [
    "function drhoa(R::Vector{Float64},beta::Float64,Re::Float64)\n",
    "    nR=norm(R)\n",
    "    return (rhoa(nR,beta,Re)/nR*beta/Re)*R\n",
    "end"
   ]
  },
  {
   "cell_type": "code",
   "execution_count": 79,
   "metadata": {},
   "outputs": [
    {
     "data": {
      "text/plain": [
       "drho0 (generic function with 3 methods)"
      ]
     },
     "metadata": {},
     "output_type": "display_data"
    }
   ],
   "source": [
    "function drho0(cell::UnitCell,i::Int,beta0::Float64=beta0,Re::Float64=Re; rc::Float64=10.0)\n",
    "natom=length(cell.atoms)\n",
    "ltv=cell.lattice_vectors\n",
    "re=zeros(3)\n",
    "for j=1:natom\n",
    "    if i!=j\n",
    "        rij=ltv*(cell.atoms[j].position-cell.atoms[i].position)\n",
    "        nrij=norm(rij)\n",
    "        if nrij<rc\n",
    "            # re-=(beta0*rhoa(nrij,beta0,Re)/nrij/Re)*rij\n",
    "            re+=drhoa(rij,beta0,Re)\n",
    "        end\n",
    "    end\n",
    "end\n",
    "return re\n",
    "end"
   ]
  },
  {
   "cell_type": "code",
   "execution_count": 80,
   "metadata": {},
   "outputs": [
    {
     "data": {
      "text/plain": [
       "drho1sq (generic function with 3 methods)"
      ]
     },
     "metadata": {},
     "output_type": "display_data"
    }
   ],
   "source": [
    "function drho1sq(cell::UnitCell,i::Int,beta1::Float64=beta1,Re::Float64=Re;rc::Float64=10.0)\n",
    "    natom=length(cell.atoms)\n",
    "    ltv=cell.lattice_vectors\n",
    "    ree=zeros(3)\n",
    "    for a in 1:3\n",
    "    re1=zeros(3)\n",
    "    re2=0.0\n",
    "     for j in 1:natom\n",
    "        if i!=j\n",
    "            rij=(ltv*(cell.atoms[j].position-cell.atoms[i].position))\n",
    "            nrij=norm(rij)\n",
    "            if nrij<rc\n",
    "                rhoaj=rhoa(nrij,beta1,Re)\n",
    "                drhoaj=drhoa(rij,beta1,Re)\n",
    "                re1+=(rij[a]*(1/nrij^3*rhoaj*rij+drhoaj/nrij)-I(3)[a,:]*rhoaj/nrij)\n",
    "                re2+=rhoaj*rij[a]/nrij\n",
    "            end\n",
    "        end\n",
    "     end\n",
    "    ree+=2*re1*re2\n",
    "    end\n",
    "    return ree\n",
    "    end"
   ]
  },
  {
   "cell_type": "code",
   "execution_count": 81,
   "metadata": {},
   "outputs": [
    {
     "data": {
      "text/plain": [
       "3-element Vector{Float64}:\n",
       " 13.65946365416106\n",
       " 13.659463654161062\n",
       " -7.354352270360075e-16"
      ]
     },
     "metadata": {},
     "output_type": "display_data"
    }
   ],
   "source": [
    "\n",
    "drho1sq(fcell,4)"
   ]
  },
  {
   "cell_type": "code",
   "execution_count": 82,
   "metadata": {},
   "outputs": [
    {
     "data": {
      "text/plain": [
       "drho2sq (generic function with 3 methods)"
      ]
     },
     "metadata": {},
     "output_type": "display_data"
    }
   ],
   "source": [
    "function drho2sq(cell::UnitCell,i::Int,beta2::Float64=beta2,Re::Float64=Re;rc::Float64=10.0)\n",
    "    natom=length(cell.atoms)\n",
    "    ltv=cell.lattice_vectors\n",
    "    ree1=zeros(3)\n",
    "    re2=zeros(3)\n",
    "    re20=0.0\n",
    "    \n",
    "        for a in 1:3\n",
    "            for b in 1:3\n",
    "                re1=zeros(3)\n",
    "                re10=0.0\n",
    "                \n",
    "                for j in 1:natom\n",
    "                    if i!=j\n",
    "                        rij=(ltv*(cell.atoms[j].position-cell.atoms[i].position))\n",
    "                        nrij=norm(rij)\n",
    "                        rhoaj=rhoa(nrij,beta2,Re)\n",
    "                        drhoaj=drhoa(rij,beta2,Re)\n",
    "                        if nrij<rc\n",
    "                            re1+=(rij[a]*rij[b]*(2*rij/nrij^4*rhoaj+drhoaj/nrij^2))-(I(3)[a,:]*rij[b]+I(3)[b,:]*rij[a])*rhoaj/nrij^2\n",
    "                            re10+=rhoaj*rij[a]*rij[b]/nrij^2\n",
    "\n",
    "                        end\n",
    "    \n",
    "                        # if a==1&&b==1&&(nrij<rc)\n",
    "                        #     re2+=drhoaj\n",
    "                        #     re20+=rhoaj\n",
    "                        # end\n",
    "    \n",
    "                    end\n",
    "                end\n",
    "                ree1+=re10*re1\n",
    "            end\n",
    "        end\n",
    "        return 2*(ree1-1/3*re20*re2)\n",
    "    end"
   ]
  },
  {
   "cell_type": "code",
   "execution_count": 83,
   "metadata": {},
   "outputs": [
    {
     "data": {
      "text/plain": [
       "drho3sq (generic function with 3 methods)"
      ]
     },
     "metadata": {},
     "output_type": "display_data"
    }
   ],
   "source": [
    "function drho3sq(cell::UnitCell,i::Int,beta3::Float64=beta3,Re::Float64=Re;rc::Float64=10.0)\n",
    "\n",
    "    natom=length(cell.atoms)\n",
    "    ltv=cell.lattice_vectors\n",
    "\n",
    "    ree1=zeros(3)\n",
    "    ree2=zeros(3)\n",
    "    for c=1:3\n",
    "        for b=1:3\n",
    "            for a=1:3\n",
    "                re1=zeros(3)\n",
    "                re10=0.0\n",
    "                re2=zeros(3)\n",
    "                re20=0.0\n",
    "                for j in 1:natom\n",
    "                    if i!=j\n",
    "                        rij=(ltv*(cell.atoms[j].position-cell.atoms[i].position))\n",
    "                        nrij=norm(rij)\n",
    "                        if nrij<rc\n",
    "                            rhoaj=rhoa(nrij,beta3,Re)\n",
    "                            drhoaj=drhoa(rij,beta3,Re)\n",
    "                            re1+=(rij[a]*rij[b]*rij[c]*(3*rij/nrij^5*rhoaj+drhoaj/nrij^3))-(I(3)[a,:]*rij[b]*rij[c]+I(3)[b,:]*rij[a]*rij[c]+I(3)[c,:]*rij[a]*rij[b])*rhoaj/nrij^3\n",
    "                            re10+=rhoaj*rij[a]*rij[b]*rij[c]/nrij^3\n",
    "\n",
    "                            if b==1&&c==1\n",
    "                                re2+=rij[a]*(drhoaj/nrij+rhoaj*rij/nrij^3)-I(3)[a,:]*rhoaj/nrij\n",
    "                                re20+=rhoaj*rij[a]/nrij\n",
    "                                \n",
    "                            end\n",
    "                        end\n",
    "                    end\n",
    "                end\n",
    "                if b==1&&c==1\n",
    "                    ree2+=2*re2*re20\n",
    "                end\n",
    "                ree1+=2*re10*re1\n",
    "            end\n",
    "        end\n",
    "    \n",
    "    end\n",
    "    return ree1-ree2*0.6\n",
    "    end"
   ]
  },
  {
   "cell_type": "code",
   "execution_count": 84,
   "metadata": {},
   "outputs": [
    {
     "data": {
      "text/plain": [
       "Ngradiant (generic function with 2 methods)"
      ]
     },
     "metadata": {},
     "output_type": "display_data"
    }
   ],
   "source": [
    "function  Ngradiant(cell::UnitCell,i::Int,f::Function,para::Vector,dr::Vector{Float64}=[-0.001,-0.01,0.001])\n",
    "    df=zeros(3)\n",
    "    lt=cell.lattice_vectors\n",
    "    invlt=inv(lt)\n",
    "    drm=Diagonal(dr)\n",
    "    \n",
    "\n",
    "    for j in 1:3\n",
    "        dri=invlt*drm[j,:]\n",
    "        dcell=deepcopy(cell)\n",
    "        dcell.atoms[i].position+=dri\n",
    "        f1=f(dcell,i,para...)\n",
    "        dcell.atoms[i].position-=2*dri\n",
    "        f2=f(dcell,i,para...)\n",
    "       \n",
    "        df[j]=(f1-f2)/2/dr[j]\n",
    "\n",
    "    end\n",
    "\n",
    "    return df\n",
    "end"
   ]
  },
  {
   "cell_type": "code",
   "execution_count": 85,
   "metadata": {},
   "outputs": [
    {
     "data": {
      "text/plain": [
       "dgammai (generic function with 4 methods)"
      ]
     },
     "metadata": {},
     "output_type": "display_data"
    }
   ],
   "source": [
    "function dgammai(cell::UnitCell,i::Int,t::Vector{Float64}=[t1,t2,t3],beta::Vector{Float64}=[beta0,beta1,beta2,beta3],Re::Float64=Re;rc::Float64=10.0)\n",
    "    dg=zeros(3)\n",
    "  \n",
    "    rho1sqi=rho1sq(cell,i,beta[2],Re,rc=rc)\n",
    "    rho2sqi=rho2sq(cell,i,beta[3],Re,rc=rc)\n",
    "    rho3sqi=rho3sq(cell,i,beta[4],Re,rc=rc)\n",
    "    rho0i=rho0(cell,i,beta[1],Re,rc=rc)\n",
    "    drho1sqi=drho1sq(cell,i,beta[2],Re,rc=rc)\n",
    "    drho2sqi=drho2sq(cell,i,beta[3],Re,rc=rc)\n",
    "    drho3sqi=drho3sq(cell,i,beta[4],Re,rc=rc)\n",
    "    drho0i=drho0(cell,i,beta[1],Re,rc=rc)\n",
    "    dg+=t[1]*(drho1sqi*(rho0i)-2*rho1sqi*drho0i)/rho0i^3\n",
    "    dg+=t[2]*(drho2sqi*(rho0i)-2*rho2sqi*drho0i)/rho0i^3\n",
    "    dg+=t[3]*(drho3sqi*(rho0i)-2*rho3sqi*drho0i)/rho0i^3\n",
    "    return dg\n",
    "end"
   ]
  },
  {
   "cell_type": "code",
   "execution_count": 86,
   "metadata": {},
   "outputs": [
    {
     "data": {
      "text/plain": [
       "drhoi (generic function with 4 methods)"
      ]
     },
     "metadata": {},
     "output_type": "display_data"
    }
   ],
   "source": [
    "function drhoi(cell::UnitCell,i::Int,t::Vector{Float64}=[t1,t2,t3],beta::Vector{Float64}=[beta0,beta1,beta2,beta3],Re::Float64=Re;rc::Float64=10.0)\n",
    "    rho0i=rho0(cell,i,beta[1],Re,rc=rc)\n",
    "    gi=gammai(cell,i,t,beta,Re,rc=rc)\n",
    "    dg=dgammai(cell,i,t,beta,Re,rc=rc)\n",
    "    drho0i=drho0(cell,i,beta[1],Re,rc=rc)\n",
    "    dr=2*drho0i/(1+exp(-gi))+2*rho0i/(1+exp(-gi))^2*exp(-gi)*dg\n",
    "    return dr\n",
    "end"
   ]
  },
  {
   "cell_type": "code",
   "execution_count": 87,
   "metadata": {},
   "outputs": [
    {
     "data": {
      "text/plain": [
       "3-element Vector{Float64}:\n",
       "  6.7812078549430534\n",
       "  6.7812078549430534\n",
       " -1.443900473042316e-16"
      ]
     },
     "metadata": {},
     "output_type": "display_data"
    }
   ],
   "source": [
    "drhoi(fcell,4)"
   ]
  },
  {
   "cell_type": "code",
   "execution_count": 88,
   "metadata": {},
   "outputs": [
    {
     "data": {
      "text/plain": [
       "3-element Vector{Float64}:\n",
       " 6.781208814021333\n",
       " 6.78130376019217\n",
       " 0.0"
      ]
     },
     "metadata": {},
     "output_type": "display_data"
    }
   ],
   "source": [
    "Ngrad=Ngradiant(fcell,4,rhoi,[],[0.001,0.01,0.001])"
   ]
  },
  {
   "cell_type": "code",
   "execution_count": 89,
   "metadata": {},
   "outputs": [
    {
     "data": {
      "text/plain": [
       "Frho (generic function with 12 methods)"
      ]
     },
     "metadata": {},
     "output_type": "display_data"
    }
   ],
   "source": [
    "function Frho(cell::UnitCell,i::Int,t::Vector{Float64}=[t1,t2,t3],beta::Vector{Float64}=[beta0,beta1,beta2,beta3],Re::Float64=Re,Ec::Float64=Ec,A::Float64=A;rc::Float64=10.0)\n",
    "    k=rhoi(cell,i,t,beta,Re,rc=rc)/rho0(cell,i,beta[1],Re,rc=rc)\n",
    "    return A*Ec*(k)*log(k)\n",
    "end"
   ]
  },
  {
   "cell_type": "code",
   "execution_count": 90,
   "metadata": {},
   "outputs": [
    {
     "data": {
      "text/plain": [
       "dFrho (generic function with 12 methods)"
      ]
     },
     "metadata": {},
     "output_type": "display_data"
    }
   ],
   "source": [
    "function dFrho(cell::UnitCell,i::Int,t::Vector{Float64}=[t1,t2,t3],beta::Vector{Float64}=[beta0,beta1,beta2,beta3],Re::Float64=Re,Ec::Float64=Ec,A::Float64=A;rc::Float64=10.0)\n",
    "\n",
    "    dri=drhoi(cell,i,t,beta,Re,rc=rc)\n",
    "    r0i=rho0(cell,i,beta[1],Re,rc=rc)\n",
    "    ri=rhoi(cell,i,t,beta,Re,rc=rc)\n",
    "    dr0i=drho0(cell,i,beta[1],Re,rc=rc)\n",
    "    k=ri/r0i\n",
    " dF=A*Ec*(1+log(k))*(dri/r0i-ri/r0i^2*dr0i)\n",
    "    return dF\n",
    "end"
   ]
  },
  {
   "cell_type": "code",
   "execution_count": 91,
   "metadata": {},
   "outputs": [
    {
     "name": "stdout",
     "output_type": "stream",
     "text": [
      " 14.099232 seconds (407.57 M allocations: 29.812 GiB, 12.54% gc time, 0.39% compilation time)\n"
     ]
    },
    {
     "data": {
      "text/plain": [
       "864-element Vector{Vector{Float64}}:\n",
       " [-0.1977485488458781, -0.1977485488458781, -0.1977485488458781]\n",
       " [-0.6312988641487154, -0.6312988641487177, 0.04463079838776343]\n",
       " [-0.6331758226368831, -0.6331758226368819, 0.0017368528825428351]\n",
       " [-0.6332479107101061, -0.6332479107101049, -1.4636635566574282e-18]\n",
       " [-0.633054600809335, -0.6330546008093337, -0.011104886000668546]\n",
       " [-0.6010995092926493, -0.6010995092926481, 0.00015190603033164772]\n",
       " [-0.6312988641487165, 0.04463079838776332, -0.6312988641487177]\n",
       " [-0.7329830871856066, 0.06308612183988424, 0.06308612183988427]\n",
       " [-0.7709213587799546, 0.06487465953747458, 0.002973158943020395]\n",
       " [-0.7722889697070459, 0.06481962982666083, -2.0112872433475442e-17]\n",
       " ⋮\n",
       " [0.7722889697070416, -0.06481962982666112, -3.7568575102786533e-17]\n",
       " [0.7634969348289078, -0.06469516823951031, -0.017848805355724133]\n",
       " [0.654816253062581, -0.059645444058044894, -0.052037333840494054]\n",
       " [0.1977485488458781, 0.1977485488458781, -0.1977485488458781]\n",
       " [0.6312988641487177, 0.6312988641487177, 0.0446307983877635]\n",
       " [0.6331758226368818, 0.633175822636883, 0.0017368528825428646]\n",
       " [0.6332479107101061, 0.6332479107101049, -1.7522965548807723e-17]\n",
       " [0.6330546008093361, 0.6330546008093361, -0.011104886000668597]\n",
       " [0.6010995092926493, 0.6010995092926505, 0.0001519060303314957]"
      ]
     },
     "metadata": {},
     "output_type": "display_data"
    }
   ],
   "source": [
    "@time [dFrho(fcell,i) for i in 1:length(fcell.atoms)]"
   ]
  },
  {
   "cell_type": "code",
   "execution_count": 93,
   "metadata": {},
   "outputs": [
    {
     "name": "stdout",
     "output_type": "stream",
     "text": [
      " 17.771251 seconds (384.87 M allocations: 28.707 GiB, 11.91% gc time, 0.10% compilation time)\n"
     ]
    },
    {
     "data": {
      "text/plain": [
       "864-element Vector{Vector{Float64}}:\n",
       " [-0.19774839467645577, -0.19773313267306136, -0.19774839467645577]\n",
       " [-0.6312983480154521, -0.6312472528149371, 0.04463075100735736]\n",
       " [-0.6331753035655474, -0.6331239175271897, 0.0017368514204640917]\n",
       " [-0.6332473914594239, -0.6331959876272553, 0.0]\n",
       " [-0.6330540823324959, -0.6330027552160722, -0.011104875910827872]\n",
       " [-0.6010989947409229, -0.6010480562849363, 0.00015202268066616398]\n",
       " [-0.6312983480150081, 0.04462606039354888, -0.6312983480150081]\n",
       " [-0.7329827612787554, 0.06307947849146789, 0.06308605540383816]\n",
       " [-0.7709210170749881, 0.06486790839381751, 0.0029731566877355675]\n",
       " [-0.7722886273804352, 0.06481288502322435, 0.0]\n",
       " ⋮\n",
       " [0.7722886273826557, -0.06481288502315774, 0.0]\n",
       " [0.7634965966156759, -0.06468842526805574, -0.01784879057331601]\n",
       " [0.6548159345867166, -0.059638770423298126, -0.05203712351553591]\n",
       " [0.1977483946755676, 0.19773313267315018, -0.19774839467645577]\n",
       " [0.6312983480154521, 0.6312472528150259, 0.04463075100602509]\n",
       " [0.6331753035664356, 0.6331239175271897, 0.0017368514217963593]\n",
       " [0.6332473914589798, 0.6331959876273885, 0.0]\n",
       " [0.6330540823333841, 0.6330027552162054, -0.011104875910827872]\n",
       " [0.6010989947422551, 0.6010480562849363, 0.0001520226815543424]"
      ]
     },
     "metadata": {},
     "output_type": "display_data"
    }
   ],
   "source": [
    "@time [Ngradiant(fcell,i,Frho,[]) for i in 1:length(fcell.atoms)]"
   ]
  },
  {
   "cell_type": "code",
   "execution_count": null,
   "metadata": {},
   "outputs": [],
   "source": []
  }
 ],
 "metadata": {
  "kernelspec": {
   "display_name": "Julia 1.10.5",
   "language": "julia",
   "name": "julia-1.10"
  },
  "language_info": {
   "file_extension": ".jl",
   "mimetype": "application/julia",
   "name": "julia",
   "version": "1.10.5"
  }
 },
 "nbformat": 4,
 "nbformat_minor": 2
}
