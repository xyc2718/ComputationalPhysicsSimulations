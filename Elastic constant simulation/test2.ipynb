{
 "cells": [
  {
   "cell_type": "code",
   "execution_count": 1,
   "metadata": {},
   "outputs": [],
   "source": [
    "include(\"modle.jl\")\n",
    "using .Model\n",
    "using StaticArrays\n",
    "# using Plots\n",
    "using LinearAlgebra\n",
    "# using Makie\n",
    "using GLMakie \n",
    "using LsqFit"
   ]
  },
  {
   "cell_type": "code",
   "execution_count": 6,
   "metadata": {},
   "outputs": [],
   "source": [
    "# 定义铜的晶格常数（单位：Å）\n",
    "lattice_constant = 3.61\n",
    "\n",
    "# 定义铜的FCC晶胞的基矢量\n",
    "lattice_vectors = collect((Matrix([\n",
    "    lattice_constant 0.0 0.0; #a1\n",
    "    0.0 lattice_constant 0.0; #a2\n",
    "    0.0 0.0 lattice_constant] #a3\n",
    "))')\n",
    "\n",
    "# 定义铜的FCC晶胞中的原子位置（单位：Å）\n",
    "atom_positions = [\n",
    "    Vector([0.0, 0.0, 0.0]),\n",
    "    Vector([0.0, 0.5, 0.5]),\n",
    "    Vector([0.5, 0.0, 0.5]),\n",
    "    Vector([0.5, 0.5, 0.0]),\n",
    "    Vector([1.0, 0.0, 0.0]),\n",
    "    Vector([0.0, 1.0, 0.0]),\n",
    "    Vector([0.0, 0.0, 1.0]),\n",
    "    Vector([0.5, 1.0, 0.5]),\n",
    "    Vector([1.0, 0.5, 0.5]),\n",
    "    Vector([0.5, 0.5, 1.0]),\n",
    "    Vector([1.0, 0.0, 1.0]),\n",
    "    Vector([1.0, 1.0, 0.0]),\n",
    "    Vector([0.0, 1.0, 1.0]),\n",
    "    Vector([1.0, 1.0, 1.0])\n",
    "] \n",
    "\n",
    "# 创建铜的原子列表\n",
    "atoms = [Atom(pos) for pos in atom_positions]\n",
    "\n",
    "cell=UnitCell(lattice_vectors,atoms)\n",
    "cpcell=copycell(cell,3,3,3)\n",
    "fig=visualize_unitcell_atoms(cpcell)"
   ]
  },
  {
   "cell_type": "code",
   "execution_count": 7,
   "metadata": {},
   "outputs": [],
   "source": [
    "#lj势能\n",
    "function lj(r::Float64)\n",
    "    return 4*(1/r^12-1/r^6)\n",
    "end\n",
    "function Flj(r::Vector{Float64})\n",
    "    rn=norm(r)\n",
    "    return 24*(2/rn^14-1/rn^8)*r\n",
    "end\n",
    "\n",
    "ct=5.0\n",
    "interaction = Interaction(lj, Flj, ct, 0.1)\n",
    "\n",
    "x=1:0.001:ct\n",
    "y=interaction.cutenergy.(x)\n",
    "lines(x,y)\n"
   ]
  },
  {
   "cell_type": "code",
   "execution_count": 4,
   "metadata": {},
   "outputs": [
    {
     "name": "stdout",
     "output_type": "stream",
     "text": [
      "-32.02658138108412\n",
      "-32.02658138108412\n"
     ]
    }
   ],
   "source": [
    "println(cell_energy(cpcell,interaction))\n",
    "println(cell_energy(cpcell,interaction))"
   ]
  },
  {
   "cell_type": "code",
   "execution_count": 5,
   "metadata": {},
   "outputs": [],
   "source": [
    "el=Vector{Float64}([])\n",
    "lattice_constant = 3.61\n",
    "cl=1.3:0.02:2.5\n",
    "en=0\n",
    "fn=0\n",
    "fl=Vector{Float64}([])\n",
    "for lattice_constant in cl\n",
    "    # 定义铜的FCC晶胞的基矢量\n",
    "    lattice_vectors = (Matrix([\n",
    "        lattice_constant 0.0 0.0; #a1\n",
    "        0.0 lattice_constant 0.0; #a2\n",
    "        0.0 0.0 lattice_constant] #a3\n",
    "    ))\n",
    "    # 创建铜的原子列表\n",
    "    atoms = [Atom(pos) for pos in atom_positions]\n",
    "\n",
    "    cell=UnitCell(lattice_vectors,atoms)\n",
    "    cpcell=copycell(cell,3,3,3)\n",
    "    en=cell_energy0(cpcell,interaction,ifnormalize=true)\n",
    "    push!(el,en)\n",
    "    # fn=sum((cell_energy(cpcell,interaction)).^2)\n",
    "    # push!(fl,fn)\n",
    "    \n",
    "end\n"
   ]
  },
  {
   "cell_type": "code",
   "execution_count": 6,
   "metadata": {},
   "outputs": [],
   "source": [
    "# 创建一个新的 Figure\n",
    "fig = Figure()\n",
    "\n",
    "# 创建一个 Axis，并设置坐标范围\n",
    "ax = Axis(fig[1, 1], title = \"Line Plot\", xlabel = \"X-Axis\", ylabel = \"Y-Axis\",\n",
    "          )\n",
    "vl=cl.^3*(cpcell.copy[1]*cpcell.copy[2]*cpcell.copy[3]);\n",
    "# lines!(ax,cl,fl)\n",
    "lines!(ax,cl,el)\n",
    "# ylims!(ax, -0.001, 0.001)\n",
    "\n",
    "fig"
   ]
  },
  {
   "cell_type": "code",
   "execution_count": 4,
   "metadata": {},
   "outputs": [
    {
     "data": {
      "text/plain": [
       "BMfit (generic function with 2 methods)"
      ]
     },
     "metadata": {},
     "output_type": "display_data"
    }
   ],
   "source": [
    "# 定义 Birch-Murnaghan 方程的函数\n",
    "function birch_murnaghan(V, p)\n",
    "    V0, B0, B0_prime, E0 = p\n",
    "    eta = (V0 ./ V).^(2/3)  # 使用广播运算符 ./\n",
    "    E = E0 .+ (9 * V0 * B0 / 16) .* ((eta .- 1).^3 .* B0_prime .+ (eta .- 1).^2 .* (6 .- 4 .* eta))\n",
    "    return E\n",
    "end\n",
    "\n",
    "function BMfit(cl,el,p0::Vector{Float64}=[1200.0, -10.0, 4.0, -1200.0])\n",
    "    fit = curve_fit(birch_murnaghan, vl, el, p0)\n",
    "\n",
    "    # 拟合结果\n",
    "    fitted_params = fit.param\n",
    "    min_lattice_constant = (fitted_params[1]/cpcell.copy[1]/cpcell.copy[2]/cpcell.copy[3])^(1/3)\n",
    "    println(\"Fitted parameters:\")\n",
    "    println(\"V0 = \", fitted_params[1])\n",
    "    println(\"B0 = \", fitted_params[2])\n",
    "    println(\"B0' = \", fitted_params[3])\n",
    "    println(\"E0 = \", fitted_params[4])\n",
    "    println(\"latticeconstant = \",min_lattice_constant )\n",
    "    fig = Figure()\n",
    "    fitfunc(x)=birch_murnaghan(x, fitted_params)\n",
    "    # 创建一个 Axis，并设置坐标范围\n",
    "    ax = Axis(fig[1, 1],xlabel=\"Volume\", ylabel=\"Energy\", title=\"Birch-Murnaghan EOS Fit\"\n",
    "              )\n",
    "    x=LinRange(minimum(vl),maximum(vl),1000)\n",
    "    scatter!(ax,vl,el,color=:red,label=\"Data\")\n",
    "    lines!(ax,x,fitfunc.(x),color=:blue,label=\"Fit\")\n",
    "    axislegend(ax, position=:rt)\n",
    "    fig\n",
    "    return min_lattice_constant,fig\n",
    "end"
   ]
  },
  {
   "cell_type": "code",
   "execution_count": 8,
   "metadata": {},
   "outputs": [
    {
     "name": "stdout",
     "output_type": "stream",
     "text": [
      "Fitted parameters:\n",
      "V0 = 326.7246123157035\n",
      "B0 = -5.046009356822658\n",
      "B0' = 2.820280876351377\n",
      "E0 = -141.49284306089007\n",
      "latticeconstant = 2.295828074709017\n"
     ]
    }
   ],
   "source": [
    "_,fig=BMfit(vl,el)\n",
    "fig"
   ]
  },
  {
   "cell_type": "code",
   "execution_count": 3,
   "metadata": {},
   "outputs": [
    {
     "data": {
      "text/plain": [
       "force_tensor (generic function with 1 method)"
      ]
     },
     "metadata": {},
     "output_type": "display_data"
    }
   ],
   "source": [
    "function cell_forceij(cell::UnitCell, interaction::Interaction, i::Int, j::Int)\n",
    "    cutoff = interaction.cutoff\n",
    "    atomi = cell.atoms[i]\n",
    "    atomj = cell.atoms[j]\n",
    "    bd=abs.(atomj.bound)\n",
    "    cp = cell.copy\n",
    "    cni = atomi.cn\n",
    "    rij=atomj.position-atomi.position\n",
    "    for k in 1:3\n",
    "        rijk=rij[k]\n",
    "        cpk=cp[k]\n",
    "        # if bd[k]==1\n",
    "        #     continue\n",
    "        # end\n",
    "        if rijk>cpk/2\n",
    "                rij[k]=rijk-cpk\n",
    "        elseif rijk<-cpk/2\n",
    "                rij[k]=rijk+cpk\n",
    "        end\n",
    "    end\n",
    "    rij=cell.lattice_vectors*rij\n",
    "    nr=norm(rij)\n",
    "    if nr>cutoff\n",
    "        force=zeros(3)\n",
    "    else\n",
    "        force=interaction.cutforce(rij)\n",
    "    end\n",
    "\n",
    "    if any(isnan,force)\n",
    "        println(\"Warning the same atoms of atom $i j=$j lead to the nan force,please check their cn\")\n",
    "    end\n",
    "    return force\n",
    "end\n",
    "\n",
    "function cell_forcei(cell::UnitCell,interaction::Interaction,i::Int)\n",
    "    forcei=zeros(3)\n",
    "        for j in 1:length(cell.atoms)\n",
    "            if i!=j\n",
    "                forcei+=cell_forceij(cell,interaction,i,j)\n",
    "            end\n",
    "        end\n",
    "    return forcei\n",
    "end\n",
    "\n",
    "\n",
    "\n",
    "function force_tensor(cell::UnitCell,interaction::Interaction)\n",
    "    tensor=zeros(3,3)\n",
    "    v=cell.Volume\n",
    "    for a in 1:3\n",
    "        for b in 1:3\n",
    "            for i in 1:length(cell.atoms)\n",
    "                forcei=cell_forcei(cell,interaction,i)\n",
    "                atom=cell.atoms[i]\n",
    "                tensor[a,b]+=forcei[a]*atom.position[b]/2+atom.momentum[a]*atom.momentum[b]/atom.mass\n",
    "            end\n",
    "        end\n",
    "    end\n",
    "    return tensor./v\n",
    "end\n"
   ]
  },
  {
   "cell_type": "code",
   "execution_count": 2,
   "metadata": {},
   "outputs": [
    {
     "data": {
      "text/plain": [
       "symplectic_matrix (generic function with 1 method)"
      ]
     },
     "metadata": {},
     "output_type": "display_data"
    }
   ],
   "source": [
    "\n",
    "###MD\n",
    "function dUdV_default(r::Vector{Float64},v::Float64)\n",
    "    return 0.0\n",
    "end\n",
    "\n",
    "function pressure_int(cell::UnitCell,interaction::Interaction,dUdV::T=dUdV_default) where T\n",
    "    v=cell.Volume\n",
    "    Pint=0.0\n",
    "    for i in 1:length(cell.atoms)\n",
    "        atom=cell.atoms[i]\n",
    "        pm=atom.momentum\n",
    "        ri=atom.position\n",
    "        fi=cell_forcei(cell,interaction,i)\n",
    "        Pint+=dot(pm,pm)/atom.mass+dot(ri,fi)-3*v*dUdV(atom.position,v)   \n",
    "    end\n",
    "    return Pint/v/3\n",
    "    \n",
    "end\n",
    "\n",
    "\n",
    "struct Thermostat\n",
    "    T::Float64  # 目标温度\n",
    "    Q::Float64  # 热浴质量\n",
    "    Rt::Float64  # 热浴变量 (friction coefficient)\n",
    "    Pt::Float64  # 热浴动量\n",
    "end\n",
    "struct Barostat\n",
    "    Pe::Float64  # 目标压力\n",
    "    V::Float64  # 系统体积\n",
    "    W::Float64  # 压力浴质量\n",
    "    Pv::Float64  # 压力浴动量\n",
    "end\n",
    "\n",
    "\n",
    "function Hz(z::Vector{Float64},cell::UnitCell,interaction::Interaction,thermostat::Thermostat,barostat::Barostat,dUdV::T=dUdV_default) where T\n",
    "    kb=1.38064852e-23\n",
    "    dim=3*length(cell.atoms)+2\n",
    "    Hz=zeros(dim*2)\n",
    "    natom=length(cell.atoms)\n",
    "    # if dim!=length(z)\n",
    "    #     throw(\"The dimension of z is not consist with the dimension of the system. z should be natom*3+2\")\n",
    "    # end\n",
    "    v=cell.Volume\n",
    "    W=barostat.W\n",
    "    Q=thermostat.Q\n",
    "    temp=thermostat.T\n",
    "    Pe=barostat.Pe\n",
    "    Pint=pressure_int(cell,interaction,dUdV)\n",
    "    addp=sum([dot(atom.momentum,atom.momentum)/atom.mass for atom in cell.atoms])\n",
    "    for i in 1:natom\n",
    "        atom=cell.atoms[i]\n",
    "        mi=atom.mass\n",
    "        Hz[3*i-2]=z[3*i-2+dim]/mi+z[2*dim]*z[3*i-2]/W\n",
    "        Hz[3*i-1]=z[3*i-1+dim]/mi+z[2*dim]*z[3*i-1]/W\n",
    "        Hz[3*i]=z[3*i+dim]/mi+z[2*dim]*z[3*i]/W\n",
    "        fi=cell_forcei(cell,interaction,i)\n",
    "        Hz[dim+3*i-2]=fi[1]-(1+1/natom)*z[2*dim]/W*z[dim+3*i-2]-z[2*dim-1]*z[dim+3*i-2]/Q\n",
    "        Hz[dim+3*i-1]=fi[2]-(1+1/natom)*z[2*dim]/W*z[dim+3*i-1]-z[2*dim-1]*z[dim+3*i-1]/Q\n",
    "        Hz[dim+3*i]=fi[3]-(1+1/natom)*z[2*dim]/W*z[dim+3*i]-z[2*dim-1]*z[dim+3*i]/Q\n",
    "        Hz[dim]=3*z[dim]*z[2*dim]/W\n",
    "        Hz[2*dim]=3*z[dim]*(Pint-Pe)+1/natom*addp-z[2*dim-1]*z[2*dim]/Q\n",
    "        Hz[dim-1]=z[2*dim-1]/Q\n",
    "        Hz[2*dim-1]=addp+z[2*dim]^2/W-(3*natom+1)*kb*temp\n",
    "    end\n",
    "    return Hz\n",
    "end\n",
    "\n",
    "\n",
    "function symplectic_matrix(n::Int)\n",
    "    I = Matrix{Float64}(I, n, n)  # 创建 n x n 的单位矩阵\n",
    "    O = zeros(Float64, n, n)      # 创建 n x n 的零矩阵\n",
    "    J = [O I; -I O]               # 使用块矩阵构建辛矩阵\n",
    "    return J\n",
    "end"
   ]
  },
  {
   "cell_type": "code",
   "execution_count": 57,
   "metadata": {},
   "outputs": [
    {
     "data": {
      "text/plain": [
       "filtercell (generic function with 1 method)"
      ]
     },
     "metadata": {},
     "output_type": "display_data"
    }
   ],
   "source": [
    "\n",
    "# 定义 symplectic_matrix 函数\n",
    "function symplectic_matrix(n::Int)\n",
    "    I = Matrix{Float64}(I, n, n)  # 创建 n x n 的单位矩阵\n",
    "    O = zeros(Float64, n, n)      # 创建 n x n 的零矩阵\n",
    "    J = [O I; -I O]               # 使用块矩阵构建辛矩阵\n",
    "    return J\n",
    "end\n",
    "\n",
    "function RK3_step(z::Vector{Float64},dt::Float64,cell::UnitCell, interaction::Interaction, thermostat::Thermostat, barostat::Barostat, dUdV::T = dUdV_default) where T\n",
    "    k1=Hz(z,cell,interaction,thermostat,barostat,dUdV)\n",
    "    k2=Hz(z+dt/2*k1,cell,interaction,thermostat,barostat,dUdV)\n",
    "    k3=Hz(z-dt*k1+2*dt*k2,cell,interaction,thermostat,barostat,dUdV)\n",
    "    newz=z+dt/6*(k1+4*k2+k3)\n",
    "    zmod=similar(z)\n",
    "    a,b,c=cell.lattice_vectors*cell.copy\n",
    "    natom=length(cell.atoms)\n",
    "    # for i in 1:natom\n",
    "    #     zmod[3*i-2]=mod(newz[3*i-2],a)\n",
    "    #     zmod[3*i-1]=mod(newz[3*i-1],b)\n",
    "    #     zmod[3*i]=mod(newz[3*i],c)\n",
    "    #     zmod[3*natom+3*i]=mod(newz[3*natom+3*i],a)\n",
    "    #     zmod[3*natom+3*i+1]=mod(newz[3*natom+3*i+1],b)\n",
    "    #     zmod[3*natom+3*i+2]=mod(newz[3*natom+3*i+2],c)\n",
    "    # end\n",
    "return newz\n",
    "end\n",
    "function filtercell(cell::UnitCell)\n",
    "    a,b,c=cell.lattice_vectors*cell.copy\n",
    "    natom=length(cell.atoms)\n",
    "    atoms=Vector{Atom}([])\n",
    "    for i in 1:natom\n",
    "        if -1 in cell.atoms[i].bound\n",
    "            continue\n",
    "        end\n",
    "        push!(atoms,cell.atoms[i])\n",
    "    end\n",
    "    return UnitCell(cell.lattice_vectors,atoms,cell.copy)\n",
    "end"
   ]
  },
  {
   "cell_type": "code",
   "execution_count": 8,
   "metadata": {},
   "outputs": [],
   "source": [
    "# 定义铜的晶格常数（单位：Å）\n",
    "lattice_constant =1\n",
    "\n",
    "# 定义铜的FCC晶胞的基矢量\n",
    "lattice_vectors = collect((Matrix([\n",
    "    lattice_constant 0.0 0.0; #a1\n",
    "    0.0 lattice_constant 0.0; #a2\n",
    "    0.0 0.0 lattice_constant] #a3\n",
    "))')\n",
    "\n",
    "# 定义铜的FCC晶胞中的原子位置（单位：Å）\n",
    "atom_positions = [\n",
    "    Vector([0.0, 0.0, 0.0]),\n",
    "    Vector([0.0, 0.5, 0.5]),\n",
    "    Vector([0.5, 0.0, 0.5]),\n",
    "    Vector([0.5, 0.5, 0.0]),\n",
    "    Vector([1.0, 0.0, 0.0]),\n",
    "    Vector([0.0, 1.0, 0.0]),\n",
    "    Vector([0.0, 0.0, 1.0]),\n",
    "    Vector([0.5, 1.0, 0.5]),\n",
    "    Vector([1.0, 0.5, 0.5]),\n",
    "    Vector([0.5, 0.5, 1.0]),\n",
    "    Vector([1.0, 0.0, 1.0]),\n",
    "    Vector([1.0, 1.0, 0.0]),\n",
    "    Vector([0.0, 1.0, 1.0]),\n",
    "    Vector([1.0, 1.0, 1.0])\n",
    "] \n",
    "\n",
    "# 创建铜的原子列表\n",
    "atoms = [Atom(pos) for pos in atom_positions]\n",
    "\n",
    "cell=UnitCell(lattice_vectors,atoms)\n",
    "cpcell=copycell(cell,3,3,3)\n",
    "fcell=filtercell(cpcell)\n",
    "visualize_unitcell_atoms(fcell)"
   ]
  },
  {
   "cell_type": "code",
   "execution_count": 58,
   "metadata": {},
   "outputs": [
    {
     "data": {
      "text/plain": [
       "652-element Vector{Float64}:\n",
       " 0.0\n",
       " 0.0\n",
       " 0.0\n",
       " 0.0\n",
       " 0.0\n",
       " 1.0\n",
       " 0.0\n",
       " 0.0\n",
       " 2.0\n",
       " 0.0\n",
       " ⋮\n",
       " 0.0\n",
       " 0.0\n",
       " 0.0\n",
       " 0.0\n",
       " 0.0\n",
       " 0.0\n",
       " 0.0\n",
       " 0.0\n",
       " 0.0"
      ]
     },
     "metadata": {},
     "output_type": "display_data"
    }
   ],
   "source": [
    "thermostat = Thermostat(300.0, 10.0, 0.1, 0.0)\n",
    "barostat=Barostat(15.0,fcell.Volume,10.0,0.0)\n",
    "rl=[fcell.lattice_vectors*atom.position for atom in fcell.atoms];\n",
    "pl=[atom.momentum for atom in fcell.atoms];\n",
    "z=vcat(vcat(rl...),thermostat.Rt,barostat.V,vcat(pl...),thermostat.Pt,barostat.Pv);\n",
    "z"
   ]
  },
  {
   "cell_type": "code",
   "execution_count": 60,
   "metadata": {},
   "outputs": [
    {
     "data": {
      "text/plain": [
       "652-element Vector{Float64}:\n",
       " 0.0\n",
       " 0.0\n",
       " 0.0\n",
       " 0.0\n",
       " 0.0\n",
       " 1.0\n",
       " 0.0\n",
       " 0.0\n",
       " 2.0\n",
       " 0.0\n",
       " ⋮\n",
       " 0.0\n",
       " 0.0\n",
       " 0.0\n",
       " 0.0\n",
       " 0.0\n",
       " 0.0\n",
       " 0.0\n",
       " 0.0\n",
       " 0.0"
      ]
     },
     "metadata": {},
     "output_type": "display_data"
    }
   ],
   "source": [
    "RK3_step(z,0.01,fcell,interaction,thermostat,barostat)"
   ]
  },
  {
   "cell_type": "code",
   "execution_count": 10,
   "metadata": {},
   "outputs": [],
   "source": [
    "zl=[]\n",
    "for i in 1:100\n",
    "    push!(zl,z)\n",
    "    z=RK3_step(z,0.001,fcell,interaction,thermostat,barostat)\n",
    "end"
   ]
  },
  {
   "cell_type": "code",
   "execution_count": 11,
   "metadata": {},
   "outputs": [
    {
     "data": {
      "text/plain": [
       "100-element Vector{Any}:\n",
       " [0.0, 0.0, 0.0, 0.0, 0.0, 1.0, 0.0, 0.0, 2.0, 0.0  …  0.0, 0.0, 0.0, 0.0, 0.0, 0.0, 0.0, 0.0, 0.0, 0.0]\n",
       " [2.999997314286165, 2.999997314286165, 2.999997314286165, 2.999997314286165, 2.999997314286165, 1.0000018270486635, 2.999997314286165, 2.999997314286165, 2.000011711238831, 2.999997314286165  …  0.005371403354791034, 2.994628596645208, 0.005371403354794693, 0.005371403354791061, 2.994628596645208, 0.0053714033547937546, 0.005371403354791034, 0.005371403354791943, 0.0, 0.0]\n",
       " [0.002989257172978377, 0.002989257172978377, 0.002989257172978377, 0.002989257172978377, 0.002989257172978377, 1.0029937699354765, 0.0029892571729779327, 0.002989257172978377, 2.000019768352018, 0.002989257172978377  …  0.010742823019122404, 2.9892571769808756, 0.010742823019129722, 0.010742823019122459, 2.9892571769808756, 0.010742823019127845, 0.010742823019122404, 0.010742823019124222, 0.0, 0.0]\n",
       " [0.005975828640127081, 0.0059758286401270875, 0.005975828640127086, 0.0059758286401270806, 0.0059758286401270875, 1.0059803414026252, 0.005975828640126633, 0.005975828640127088, 2.0000331968848695, 0.005975828640127079  …  0.016114242683453774, 2.983885757316543, 0.01611424268346475, 0.016114242683453857, 2.983885757316543, 0.016114242683461937, 0.016114242683453774, 0.0161142426834565, -6.730661534999999e-22, 0.045127489216456255]\n",
       " [0.008957087003569847, 0.00895708700356986, 0.008957087003569857, 0.008957087003569843, 0.00895708700356986, 1.0089706253691306, 0.00895708700356939, 0.008957087003569862, 2.0000700482893152, 0.008957087003569838  …  0.02148548702012378, 2.9784871857596027, 0.021485487020138416, 0.02148548702012389, 2.9784871857596027, 0.021485487020134662, 0.02148548702012378, 0.021485487020127415, 2.715320377308487e-7, 0.09025538573035642]\n",
       " [0.011932969198582662, 0.011932969198582687, 0.011932969198582681, 0.011932969198582657, 0.011932969198582687, 1.0119555333267354, 0.0119329691985822, 0.01193296919858269, 2.0001122713982245, 0.011932969198582648  …  0.02685668650414625, 2.9730886589352163, 0.026856686504164545, 0.02685668650414639, 2.9730886589352163, 0.026856686504159854, 0.02685668650414625, 0.026856686504150795, -1.3461323069999998e-21, 0.0]\n",
       " [0.014903372147685702, 0.014903372147685738, 0.014903372147685731, 0.014903372147685695, 0.01490337214768574, 1.0149259362758385, 0.01490337214768523, 0.014903372147685745, 2.000141813794561, 0.014903372147685681  …  0.03222810616847762, 2.967717239270884, 0.032228106168499575, 0.03222810616847779, 2.967717239270884, 0.03222810616849395, 0.03222810616847762, 0.032228106168483074, -6.730661534999999e-22, 1.162076522996e-312]\n",
       " [0.017868403677124407, 0.01786840367712446, 0.017868403677124448, 0.017868403677124396, 0.017868403677124462, 1.0178909678052772, 0.017868403677123924, 0.01786840367712447, 2.0001767276105613, 0.01786840367712438  …  0.03759952583280899, 2.9623458196065515, 0.0375995258328346, 0.037599525832809184, 2.9623458196065515, 0.03759952583282804, 0.03759952583280899, 0.03759952583281535, 0.0032583844527701955, 361.02235751631355]\n",
       " [0.021484302097021804, 0.021484302097021877, 0.021484302097021863, 0.02148430209702179, 0.02148430209702188, 1.0582618424800243, 0.02148430209702129, 0.02148430209702189, 2.0737317949001564, 0.021484302097021766  …  0.04150334549387543, 2.849237845271447, 0.0415033454939037, 0.041503345493875646, 2.849237845271447, 0.041503345493896455, 0.04150334549387543, 0.04150334549388245, 0.0, 0.0]\n",
       " [0.02433085423246107, 0.02433085423246116, 0.024330854232461143, 0.024330854232461053, 0.024330854232461164, 1.0611083946154636, 0.024330854232460543, 0.02433085423246118, 2.0737759839554823, 0.02433085423246102  …  0.0468747651582068, 2.8438664256071147, 0.046874765158238726, 0.046874765158207043, 2.8438664256071147, 0.046874765158230546, 0.0468747651582068, 0.04687476515821473, 13.028416523484232, -0.22497342584930743]\n",
       " ⋮\n",
       " [NaN, NaN, NaN, NaN, NaN, NaN, NaN, NaN, NaN, NaN  …  NaN, NaN, NaN, NaN, NaN, NaN, NaN, NaN, -1.3461323069999998e-18, 5.114205207587423e-308]\n",
       " [NaN, NaN, NaN, NaN, NaN, NaN, NaN, NaN, NaN, NaN  …  NaN, NaN, NaN, NaN, NaN, NaN, NaN, NaN, -1.3461323069999998e-21, 0.0]\n",
       " [NaN, NaN, NaN, NaN, NaN, NaN, NaN, NaN, NaN, NaN  …  NaN, NaN, NaN, NaN, NaN, NaN, NaN, NaN, -8.076793841999998e-18, 0.0]\n",
       " [NaN, NaN, NaN, NaN, NaN, NaN, NaN, NaN, NaN, NaN  …  NaN, NaN, NaN, NaN, NaN, NaN, NaN, NaN, -1.3474784393069997e-18, 5.114205207587423e-308]\n",
       " [NaN, NaN, NaN, NaN, NaN, NaN, NaN, NaN, NaN, NaN  …  NaN, NaN, NaN, NaN, NaN, NaN, NaN, NaN, -1.3468053731534997e-18, 5.114205207587423e-308]\n",
       " [NaN, NaN, NaN, NaN, NaN, NaN, NaN, NaN, NaN, NaN  …  NaN, NaN, NaN, NaN, NaN, NaN, NaN, NaN, -1.3461323069999998e-21, 0.0]\n",
       " [NaN, NaN, NaN, NaN, NaN, NaN, NaN, NaN, NaN, NaN  …  NaN, NaN, NaN, NaN, NaN, NaN, NaN, NaN, 6.730661534999999e-22, 0.0]\n",
       " [NaN, NaN, NaN, NaN, NaN, NaN, NaN, NaN, NaN, NaN  …  NaN, NaN, NaN, NaN, NaN, NaN, NaN, NaN, -2.0191984604999995e-21, 0.0]\n",
       " [NaN, NaN, NaN, NaN, NaN, NaN, NaN, NaN, NaN, NaN  …  NaN, NaN, NaN, NaN, NaN, NaN, NaN, NaN, 2.0191984604999995e-21, 0.0]"
      ]
     },
     "metadata": {},
     "output_type": "display_data"
    }
   ],
   "source": [
    "pressure_int(fcell,interaction)\n",
    "zl"
   ]
  },
  {
   "cell_type": "code",
   "execution_count": 18,
   "metadata": {},
   "outputs": [
    {
     "data": {
      "text/plain": [
       "z2cell (generic function with 1 method)"
      ]
     },
     "metadata": {},
     "output_type": "display_data"
    }
   ],
   "source": [
    "function z2atoms(z::Vector{Float64},cell::UnitCell)\n",
    "    natom=Int((length(z)-4)/6)\n",
    "    rl=z[1:3*natom]\n",
    "    pl=z[3*natom+3:3*natom+3*natom+3]\n",
    "    atoms=Vector{Atom}(undef,natom)\n",
    "    for i in 1:natom\n",
    "        atom=Atom(rl[3*i-2:3*i],pl[3*i-2:3*i],cell.atoms[i].mass,cell.atoms[i].cn,cell.atoms[i].bound)\n",
    "        atoms[i]=atom\n",
    "    end\n",
    "    return atoms\n",
    "end\n",
    "\n",
    "function z2cell(z::Vector{Float64},cell::UnitCell)\n",
    "    atoms=z2atoms(z,cell)\n",
    "    newcell=UnitCell(cell.lattice_vectors,atoms,cell.copy)\n",
    "    return newcell\n",
    "end"
   ]
  },
  {
   "cell_type": "code",
   "execution_count": 25,
   "metadata": {},
   "outputs": [
    {
     "data": {
      "text/plain": [
       "UnitCell([1.0 0.0 0.0; 0.0 1.0 0.0; 0.0 0.0 1.0], Atom[Atom([0.10991486829918874, 0.10991486829919088, 0.10991486829919062], [2.7905086266004657, 2.7905086266005528, 2.7905086266005372], 1.0, 8, [1, 1, 1]), Atom([0.10991486829918848, 0.10991486829919092, 1.1099170413613213], [2.7905086266004493, 2.790508626600554, 2.790508626600536], 1.0, 4, [1, 1, 0]), Atom([0.10991486829918745, 0.10991486829919134, 2.0040893088433687], [2.7905086266003982, 2.7905086266005736, 0.20948529983645503], 1.0, 4, [1, 1, 0]), Atom([0.10991486829918781, 1.1099170413613213, 0.10991486829919063], [2.7905086266004155, 2.79050862660054, 2.790508626600538], 1.0, 4, [1, 0, 1]), Atom([0.10991486829918681, 1.1099170413613213, 1.1099170413613213], [2.790508626600365, 2.79050862660052, 2.790508626600537], 1.0, 2, [1, 0, 0]), Atom([0.10991486829918651, 1.109917041361321, 2.0040893088433687], [2.7905086266003494, 2.790508626600501, 0.20948529983645367], 1.0, 2, [1, 0, 0]), Atom([0.10991486829918813, 2.0040893088433696, 0.10991486829919066], [2.7905086266004306, 0.20948529983649614, 2.7905086266005386], 1.0, 4, [1, 0, 1]), Atom([0.10991486829918706, 2.0040893088433696, 1.1099170413613213], [2.7905086266003796, 0.2094852998364742, 2.7905086266005372], 1.0, 2, [1, 0, 0]), Atom([0.1099148682991861, 2.004089308843369, 2.0040893088433687], [2.790508626600329, 0.20948529983646985, 0.20948529983645187], 1.0, 2, [1, 0, 0]), Atom([1.1099170413613195, 0.10991486829919062, 0.10991486829919034], [2.790508626600434, 2.790508626600537, 2.7905086266005226], 1.0, 4, [0, 1, 1])  …  Atom([1.5040882223123053, 2.504090395374435, 2.0040893088433687], [0.20948529983652306, 0.2094852998364439, 0.20948529983646144], 1.0, 1, [0, 0, 0]), Atom([2.5040903953744404, 0.6099159548302561, 0.10991486829919066], [0.20948529983667238, 2.790508626600553, 2.7905086266005386], 1.0, 2, [0, 0, 1]), Atom([2.5040903953744396, 0.6099159548302561, 1.1099170413613213], [0.2094852998366379, 2.790508626600553, 2.7905086266005372], 1.0, 1, [0, 0, 0]), Atom([2.5040903953744387, 0.6099159548302557, 2.0040893088433687], [0.20948529983660133, 2.7905086266005186, 0.20948529983645173], 1.0, 1, [0, 0, 0]), Atom([2.50409039537444, 1.5040882223123047, 0.10991486829919066], [0.20948529983665073, 0.20948529983648745, 2.7905086266005386], 1.0, 2, [0, 0, 1]), Atom([2.504090395374439, 1.504088222312304, 1.1099170413613213], [0.20948529983661626, 0.20948529983645076, 2.790508626600537], 1.0, 1, [0, 0, 0]), Atom([2.5040903953744373, 1.504088222312304, 2.0040893088433687], [0.20948529983654413, 0.20948529983645187, 0.20948529983645187], 1.0, 1, [0, 0, 0]), Atom([2.5040903953744373, 2.5040903953744347, 0.10991486829919066], [0.20948529983655803, 0.2094852998364164, 2.7905086266005386], 1.0, 2, [0, 0, 1]), Atom([2.5040903953744373, 2.5040903953744347, 1.1099170413613213], [0.20948529983655914, 0.20948529983641778, 2.790508626600537], 1.0, 1, [0, 0, 0]), Atom([2.5040903953744365, 2.5040903953744347, 2.0040893088433687], [0.20948529983652284, 0.2094852998364164, 0.20948529983645187], 1.0, 1, [0, 0, 0])], [3, 3, 3], 27.0)"
      ]
     },
     "metadata": {},
     "output_type": "display_data"
    }
   ],
   "source": [
    "newcell=z2cell(zl[40],fcell)\n",
    "# fig=visualize_unitcell_atoms0(newcell)\n",
    "# fig"
   ]
  },
  {
   "cell_type": "code",
   "execution_count": 26,
   "metadata": {},
   "outputs": [
    {
     "data": {
      "text/plain": [
       "-35394.43239469983"
      ]
     },
     "metadata": {},
     "output_type": "display_data"
    }
   ],
   "source": [
    "pressure_int(newcell,interaction)"
   ]
  },
  {
   "cell_type": "code",
   "execution_count": 54,
   "metadata": {},
   "outputs": [
    {
     "ename": "ErrorException",
     "evalue": "invalid method definition in Main: function Model.visualize_unitcell_atoms0 must be explicitly imported to be extended",
     "output_type": "error",
     "traceback": [
      "invalid method definition in Main: function Model.visualize_unitcell_atoms0 must be explicitly imported to be extended\n",
      "\n",
      "Stacktrace:\n",
      " [1] top-level scope\n",
      "   @ none:0"
     ]
    }
   ],
   "source": [
    "# 定义一个颜色映射函数\n",
    "function color_map(cn)\n",
    "    colors = [:red, :green, :blue, :yellow, :purple, :orange, :cyan, :magenta]\n",
    "    return colors[mod(cn - 1, length(colors)) + 1]\n",
    "end\n",
    "\"\"\"\n",
    "可视化晶胞原子\n",
    "\"\"\"\n",
    "function visualize_unitcell_atoms0(cell::UnitCell,markersize=10,veccolor=:blue,linewith=0.1)::Figure\n",
    "    fig =GLMakie.Figure(size = (800, 600))\n",
    "    ax = GLMakie.Axis3(fig[1, 1], title = \"Visualization of Atoms in the Unit Cell\", \n",
    "               xlabel = \"X\", ylabel = \"Y\", zlabel = \"Z\")\n",
    "    M=cell.lattice_vectors\n",
    "    for atom in cell.atoms\n",
    "        p=M*atom.position\n",
    "        cni=atom.cn\n",
    "        GLMakie.scatter!(ax,p..., color = color_map(cni), markersize = markersize)\n",
    "    end\n",
    "    return fig\n",
    "end"
   ]
  },
  {
   "cell_type": "code",
   "execution_count": 55,
   "metadata": {},
   "outputs": [
    {
     "ename": "MethodError",
     "evalue": "MethodError: no method matching z2cell(::Vector{Float64}, ::Matrix{Float64})\n\nClosest candidates are:\n  z2cell(::Vector{Float64}, !Matched::UnitCell)\n   @ Main c:\\Users\\ASUS\\Desktop\\计算物理模拟实验\\Elastic constant simulation\\jl_notebook_cell_df34fa98e69747e1a8f8a730347b8e2f_X20sZmlsZQ==.jl:13\n",
     "output_type": "error",
     "traceback": [
      "MethodError: no method matching z2cell(::Vector{Float64}, ::Matrix{Float64})\n",
      "\n",
      "Closest candidates are:\n",
      "  z2cell(::Vector{Float64}, !Matched::UnitCell)\n",
      "   @ Main c:\\Users\\ASUS\\Desktop\\计算物理模拟实验\\Elastic constant simulation\\jl_notebook_cell_df34fa98e69747e1a8f8a730347b8e2f_X20sZmlsZQ==.jl:13\n",
      "\n",
      "\n",
      "Stacktrace:\n",
      " [1] func(i::Int64)\n",
      "   @ Main c:\\Users\\ASUS\\Desktop\\计算物理模拟实验\\Elastic constant simulation\\jl_notebook_cell_df34fa98e69747e1a8f8a730347b8e2f_X23sZmlsZQ==.jl:6\n",
      " [2] #54\n",
      "   @ c:\\Users\\ASUS\\Desktop\\计算物理模拟实验\\Elastic constant simulation\\jl_notebook_cell_df34fa98e69747e1a8f8a730347b8e2f_X23sZmlsZQ==.jl:17 [inlined]\n",
      " [3] Record(func::var\"#54#55\", figlike::Figure, iter::UnitRange{Int64}; kw_args::@Kwargs{format::SubString{String}, framerate::Int64})\n",
      "   @ Makie C:\\Users\\ASUS\\.julia\\packages\\Makie\\eERNK\\src\\recording.jl:173\n",
      " [4] record(func::Function, figlike::Figure, path::String, iter::UnitRange{Int64}; kw_args::@Kwargs{framerate::Int64})\n",
      "   @ Makie C:\\Users\\ASUS\\.julia\\packages\\Makie\\eERNK\\src\\recording.jl:154\n",
      " [5] create_animation()\n",
      "   @ Main c:\\Users\\ASUS\\Desktop\\计算物理模拟实验\\Elastic constant simulation\\jl_notebook_cell_df34fa98e69747e1a8f8a730347b8e2f_X23sZmlsZQ==.jl:16\n",
      " [6] top-level scope\n",
      "   @ c:\\Users\\ASUS\\Desktop\\计算物理模拟实验\\Elastic constant simulation\\jl_notebook_cell_df34fa98e69747e1a8f8a730347b8e2f_X23sZmlsZQ==.jl:23"
     ]
    }
   ],
   "source": [
    "using Makie\n",
    "using FFMPEG\n",
    "\n",
    "# 假设func(i)是一个生成3D图的函数\n",
    "function func(i)\n",
    "    newcell=z2cell(zl[i],lattice_vectors)\n",
    "    fig=visualize_unitcell_atoms0(newcell)\n",
    "    return fig\n",
    "end\n",
    "\n",
    "function create_animation()\n",
    "    video_file = \"outputatom.mp4\"\n",
    "    n_frames = 1000\n",
    "    fps = 1\n",
    "    # 使用record函数生成动画\n",
    "    record(fig, video_file, 1:n_frames; framerate = fps) do i\n",
    "        func(i)\n",
    "    end\n",
    "end\n",
    "\n",
    "\n",
    "# 调用函数生成视频\n",
    "create_animation()\n"
   ]
  },
  {
   "cell_type": "code",
   "execution_count": null,
   "metadata": {},
   "outputs": [],
   "source": []
  }
 ],
 "metadata": {
  "kernelspec": {
   "display_name": "Julia 1.10.5",
   "language": "julia",
   "name": "julia-1.10"
  },
  "language_info": {
   "file_extension": ".jl",
   "mimetype": "application/julia",
   "name": "julia",
   "version": "1.10.5"
  }
 },
 "nbformat": 4,
 "nbformat_minor": 2
}
