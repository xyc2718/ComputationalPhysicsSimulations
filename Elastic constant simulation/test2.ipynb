{
 "cells": [
  {
   "cell_type": "code",
   "execution_count": 1,
   "metadata": {},
   "outputs": [],
   "source": [
    "include(\"modle.jl\")\n",
    "using .Model\n",
    "using StaticArrays\n",
    "# using Plots\n",
    "using LinearAlgebra\n",
    "# using Makie\n",
    "using GLMakie \n",
    "using LsqFit"
   ]
  },
  {
   "cell_type": "code",
   "execution_count": 2,
   "metadata": {},
   "outputs": [],
   "source": [
    "# 定义铜的晶格常数（单位：Å）\n",
    "lattice_constant = 3.61\n",
    "\n",
    "# 定义铜的FCC晶胞的基矢量\n",
    "lattice_vectors = (Matrix([\n",
    "    lattice_constant 0.0 0.0; #a1\n",
    "    0.0 lattice_constant 0.0; #a2\n",
    "    0.0 0.0 lattice_constant] #a3\n",
    "))'\n",
    "\n",
    "# 定义铜的FCC晶胞中的原子位置（单位：Å）\n",
    "atom_positions = [\n",
    "    Vector([0.0, 0.0, 0.0]),\n",
    "    Vector([0.0, 0.5, 0.5]),\n",
    "    Vector([0.5, 0.0, 0.5]),\n",
    "    Vector([0.5, 0.5, 0.0]),\n",
    "    Vector([1.0, 0.0, 0.0]),\n",
    "    Vector([0.0, 1.0, 0.0]),\n",
    "    Vector([0.0, 0.0, 1.0]),\n",
    "    Vector([0.5, 1.0, 0.5]),\n",
    "    Vector([1.0, 0.5, 0.5]),\n",
    "    Vector([0.5, 0.5, 1.0]),\n",
    "    Vector([1.0, 0.0, 1.0]),\n",
    "    Vector([1.0, 1.0, 0.0]),\n",
    "    Vector([0.0, 1.0, 1.0]),\n",
    "    Vector([1.0, 1.0, 1.0])\n",
    "] \n",
    "\n",
    "# 创建铜的原子列表\n",
    "atoms = [Atom(pos) for pos in atom_positions]\n",
    "\n",
    "cell=UnitCell(lattice_vectors,atoms)\n",
    "cpcell=copycell(cell,3,3,3)\n",
    "fig=visualize_unitcell_atoms(cpcell)"
   ]
  },
  {
   "cell_type": "code",
   "execution_count": 3,
   "metadata": {},
   "outputs": [],
   "source": [
    "#lj势能\n",
    "function lj(r::Float64)\n",
    "    return 4*(1/r^12-1/r^6)\n",
    "end\n",
    "function Flj(r::Vector{Float64})\n",
    "    rn=norm(r)\n",
    "    return 24*(2/rn^14-1/rn^8)*r\n",
    "end\n",
    "\n",
    "ct=5.0\n",
    "interaction = Interaction(lj, Flj, ct, 0.1)\n",
    "\n",
    "x=1:0.001:ct\n",
    "y=interaction.cutenergy.(x)\n",
    "lines(x,y)\n"
   ]
  },
  {
   "cell_type": "code",
   "execution_count": 4,
   "metadata": {},
   "outputs": [
    {
     "name": "stdout",
     "output_type": "stream",
     "text": [
      "-32.02658138108412\n",
      "-32.02658138108412\n"
     ]
    }
   ],
   "source": [
    "println(cell_energy(cpcell,interaction))\n",
    "println(cell_energy(cpcell,interaction))"
   ]
  },
  {
   "cell_type": "code",
   "execution_count": 5,
   "metadata": {},
   "outputs": [],
   "source": [
    "el=Vector{Float64}([])\n",
    "lattice_constant = 3.61\n",
    "cl=1.3:0.01:2.5\n",
    "en=0\n",
    "for lattice_constant in cl\n",
    "    # 定义铜的FCC晶胞的基矢量\n",
    "    lattice_vectors = (Matrix([\n",
    "        lattice_constant 0.0 0.0; #a1\n",
    "        0.0 lattice_constant 0.0; #a2\n",
    "        0.0 0.0 lattice_constant] #a3\n",
    "    ))\n",
    "    # 创建铜的原子列表\n",
    "    atoms = [Atom(pos) for pos in atom_positions]\n",
    "\n",
    "    cell=UnitCell(lattice_vectors,atoms)\n",
    "    cpcell=copycell(cell,5,5,5)\n",
    "    en=cell_energy0(cpcell,interaction,ifnormalize=true)\n",
    "    push!(el,en)\n",
    "end\n"
   ]
  },
  {
   "cell_type": "code",
   "execution_count": 10,
   "metadata": {},
   "outputs": [],
   "source": [
    "# 创建一个新的 Figure\n",
    "fig = Figure()\n",
    "\n",
    "# 创建一个 Axis，并设置坐标范围\n",
    "ax = Axis(fig[1, 1], title = \"Line Plot\", xlabel = \"X-Axis\", ylabel = \"Y-Axis\",\n",
    "          )\n",
    "\n",
    "lines!(ax,cl,el)\n",
    "# ylims!(ax, -0.001, 0.001)\n",
    "\n",
    "fig"
   ]
  },
  {
   "cell_type": "code",
   "execution_count": 14,
   "metadata": {},
   "outputs": [],
   "source": [
    "vl=cl.^3*(cpcell.copy[1]*cpcell.copy[2]*cpcell.copy[3]);"
   ]
  },
  {
   "cell_type": "code",
   "execution_count": 16,
   "metadata": {},
   "outputs": [],
   "source": [
    "lines(vl,el)"
   ]
  },
  {
   "cell_type": "code",
   "execution_count": 29,
   "metadata": {},
   "outputs": [
    {
     "data": {
      "text/plain": [
       "BMfit (generic function with 2 methods)"
      ]
     },
     "metadata": {},
     "output_type": "display_data"
    }
   ],
   "source": [
    "# 定义 Birch-Murnaghan 方程的函数\n",
    "function birch_murnaghan(V, p)\n",
    "    V0, B0, B0_prime, E0 = p\n",
    "    eta = (V0 ./ V).^(2/3)  # 使用广播运算符 ./\n",
    "    E = E0 .+ (9 * V0 * B0 / 16) .* ((eta .- 1).^3 .* B0_prime .+ (eta .- 1).^2 .* (6 .- 4 .* eta))\n",
    "    return E\n",
    "end\n",
    "\n",
    "function BMfit(cl,el,p0::Vector{Float64}=[1200.0, 200.0, 4.0, 1000.0])\n",
    "    fit = curve_fit(birch_murnaghan, vl, el, p0)\n",
    "\n",
    "    # 拟合结果\n",
    "    fitted_params = fit.param\n",
    "    min_lattice_constant = fitted_params[1].^(1/3)/cpcell.copy[1]\n",
    "    println(\"Fitted parameters:\")\n",
    "    println(\"V0 = \", fitted_params[1])\n",
    "    println(\"B0 = \", fitted_params[2])\n",
    "    println(\"B0' = \", fitted_params[3])\n",
    "    println(\"E0 = \", fitted_params[4])\n",
    "    println(\"latticeconstant = \",min_lattice_constant )\n",
    "    fig = Figure()\n",
    "    fitfunc(x)=birch_murnaghan(x, fitted_params)\n",
    "    # 创建一个 Axis，并设置坐标范围\n",
    "    ax = Axis(fig[1, 1],xlabel=\"Volume\", ylabel=\"Energy\", title=\"Birch-Murnaghan EOS Fit\"\n",
    "              )\n",
    "    scatter!(ax,vl,el,color=:red,label=\"Data\")\n",
    "    lines!(ax,vl,fitfunc.(vl),color=:blue,label=\"Fit\")\n",
    "    axislegend(ax, position=:rt)\n",
    "    fig\n",
    "    return min_lattice_constant\n",
    "end"
   ]
  },
  {
   "cell_type": "code",
   "execution_count": 30,
   "metadata": {},
   "outputs": [
    {
     "name": "stdout",
     "output_type": "stream",
     "text": [
      "Fitted parameters:\n",
      "V0 = 482.29812570328926\n",
      "B0 = 144.9893298745432\n",
      "B0' = 6.4884045087519775\n",
      "E0 = -8872.44989358147\n",
      "latticeconstant = 1.568442205842431\n",
      "Fitted energies: [1.9171861820679873e8, 1.5659637789418423e8, 1.3008722919836451e8, 1.096106748473637e8, 9.348155768588084e7]\n"
     ]
    },
    {
     "ename": "MakieCore.InvalidAttributeError",
     "evalue": "Invalid attribute c for plot type Scatter{Tuple{Vector{Point{2, Float64}}}}.\n\nThe available plot attributes for Scatter{Tuple{Vector{Point{2, Float64}}}} are:\n\nalpha        depthsorting     inspector_hover  nan_color         transformation \nclip_planes  distancefield    inspector_label  overdraw          transparency   \ncolor        fxaa             lowclip          rotation          uv_offset_width\ncolormap     glowcolor        marker           space             visible        \ncolorrange   glowwidth        marker_offset    ssao                             \ncolorscale   highclip         markersize       strokecolor                      \ncycle        inspectable      markerspace      strokewidth                      \ndepth_shift  inspector_clear  model            transform_marker                 \n\n\nGeneric attributes are:\n\nclip_planes  dim_conversions  model      transformation  yautolimits        \ncycle        label            rasterize  xautolimits     zautolimits        \n\n",
     "output_type": "error",
     "traceback": [
      "Invalid attribute c for plot type Scatter{Tuple{Vector{Point{2, Float64}}}}.\n",
      "\n",
      "The available plot attributes for Scatter{Tuple{Vector{Point{2, Float64}}}} are:\n",
      "\n",
      "alpha        depthsorting     inspector_hover  nan_color         transformation \n",
      "clip_planes  distancefield    inspector_label  overdraw          transparency   \n",
      "color        fxaa             lowclip          rotation          uv_offset_width\n",
      "colormap     glowcolor        marker           space             visible        \n",
      "colorrange   glowwidth        marker_offset    ssao                             \n",
      "colorscale   highclip         markersize       strokecolor                      \n",
      "cycle        inspectable      markerspace      strokewidth                      \n",
      "depth_shift  inspector_clear  model            transform_marker                 \n",
      "\n",
      "\n",
      "Generic attributes are:\n",
      "\n",
      "clip_planes  dim_conversions  model      transformation  yautolimits        \n",
      "cycle        label            rasterize  xautolimits     zautolimits        \n",
      "\n",
      "\n",
      "\n",
      "Stacktrace:\n",
      " [1] validate_attribute_keys(plot::Scatter{Tuple{Vector{Point{2, Float64}}}})\n",
      "   @ MakieCore C:\\Users\\ASUS\\.julia\\packages\\MakieCore\\rTINf\\src\\recipes.jl:746\n",
      " [2] push!(scene::Scene, plot::Plot)\n",
      "   @ Makie C:\\Users\\ASUS\\.julia\\packages\\Makie\\eERNK\\src\\scenes.jl:459\n",
      " [3] plot!\n",
      "   @ C:\\Users\\ASUS\\.julia\\packages\\Makie\\eERNK\\src\\interfaces.jl:413 [inlined]\n",
      " [4] plot!(ax::Axis, plot::Scatter{Tuple{Vector{Point{2, Float64}}}})\n",
      "   @ Makie C:\\Users\\ASUS\\.julia\\packages\\Makie\\eERNK\\src\\figureplotting.jl:412\n",
      " [5] _create_plot!(::Function, ::Dict{Symbol, Any}, ::Axis, ::Vector{Float64}, ::Vararg{Vector{Float64}})\n",
      "   @ Makie C:\\Users\\ASUS\\.julia\\packages\\Makie\\eERNK\\src\\figureplotting.jl:381\n",
      " [6] scatter!(::Axis, ::Vararg{Any}; kw::@Kwargs{c::Symbol, label::String})\n",
      "   @ MakieCore C:\\Users\\ASUS\\.julia\\packages\\MakieCore\\rTINf\\src\\recipes.jl:453\n",
      " [7] min_BMfunction(el::Vector{Float64}, El::Vector{Float64}, p0::Vector{Float64})\n",
      "   @ Main c:\\Users\\ASUS\\Desktop\\计算物理模拟实验\\Elastic constant simulation\\jl_notebook_cell_df34fa98e69747e1a8f8a730347b8e2f_W6sZmlsZQ==.jl:32\n",
      " [8] min_BMfunction(el::Vector{Float64}, El::Vector{Float64})\n",
      "   @ Main c:\\Users\\ASUS\\Desktop\\计算物理模拟实验\\Elastic constant simulation\\jl_notebook_cell_df34fa98e69747e1a8f8a730347b8e2f_W6sZmlsZQ==.jl:12\n",
      " [9] top-level scope\n",
      "   @ c:\\Users\\ASUS\\Desktop\\计算物理模拟实验\\Elastic constant simulation\\jl_notebook_cell_df34fa98e69747e1a8f8a730347b8e2f_X11sZmlsZQ==.jl:1"
     ]
    }
   ],
   "source": [
    "min_BMfunction(el,vl)"
   ]
  }
 ],
 "metadata": {
  "kernelspec": {
   "display_name": "Julia 1.10.5",
   "language": "julia",
   "name": "julia-1.10"
  },
  "language_info": {
   "file_extension": ".jl",
   "mimetype": "application/julia",
   "name": "julia",
   "version": "1.10.5"
  }
 },
 "nbformat": 4,
 "nbformat_minor": 2
}
