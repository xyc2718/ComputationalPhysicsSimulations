{
 "cells": [
  {
   "cell_type": "code",
   "execution_count": 1,
   "metadata": {},
   "outputs": [
    {
     "name": "stdout",
     "output_type": "stream",
     "text": [
      "KB=1.3799999999999998e-23\n"
     ]
    }
   ],
   "source": [
    "include(\"modle.jl\")\n",
    "using .Model\n",
    "using StaticArrays\n",
    "# using Plots\n",
    "using LinearAlgebra\n",
    "# using Makie\n",
    "using GLMakie \n",
    "using LsqFit\n",
    "println(\"KB=$kb\")"
   ]
  },
  {
   "cell_type": "code",
   "execution_count": 2,
   "metadata": {},
   "outputs": [],
   "source": [
    "# 定义铜的晶格常数（单位：Å）\n",
    "lattice_constant = 3.61\n",
    "\n",
    "# 定义铜的FCC晶胞的基矢量\n",
    "lattice_vectors = collect((Matrix([\n",
    "    lattice_constant 0.0 0.0; #a1\n",
    "    0.0 lattice_constant 0.0; #a2\n",
    "    0.0 0.0 lattice_constant] #a3\n",
    "))')\n",
    "\n",
    "# 定义铜的FCC晶胞中的原子位置（单位：Å）\n",
    "atom_positions = [\n",
    "    Vector([0.0, 0.0, 0.0]),\n",
    "    Vector([0.0, 0.5, 0.5]),\n",
    "    Vector([0.5, 0.0, 0.5]),\n",
    "    Vector([0.5, 0.5, 0.0]),\n",
    "    Vector([1.0, 0.0, 0.0]),\n",
    "    Vector([0.0, 1.0, 0.0]),\n",
    "    Vector([0.0, 0.0, 1.0]),\n",
    "    Vector([0.5, 1.0, 0.5]),\n",
    "    Vector([1.0, 0.5, 0.5]),\n",
    "    Vector([0.5, 0.5, 1.0]),\n",
    "    Vector([1.0, 0.0, 1.0]),\n",
    "    Vector([1.0, 1.0, 0.0]),\n",
    "    Vector([0.0, 1.0, 1.0]),\n",
    "    Vector([1.0, 1.0, 1.0])\n",
    "] \n",
    "\n",
    "# 创建铜的原子列表\n",
    "atoms = [Atom(pos) for pos in atom_positions]\n",
    "\n",
    "cell=UnitCell(lattice_vectors,atoms)\n",
    "cpcell=copycell(cell,3,3,3)\n",
    "fig=visualize_unitcell_atoms(cpcell)"
   ]
  },
  {
   "cell_type": "code",
   "execution_count": 3,
   "metadata": {},
   "outputs": [],
   "source": [
    "#lj势能\n",
    "function lj(r::Float64)\n",
    "    return 4*(1/r^12-1/r^6)\n",
    "end\n",
    "function Flj(r::Vector{Float64})\n",
    "    rn=norm(r)\n",
    "    return 24*(2/rn^14-1/rn^8)*r\n",
    "end\n",
    "\n",
    "ct=5.0\n",
    "interaction = Interaction(lj, Flj, ct, 0.1)\n",
    "\n",
    "x=1:0.001:ct\n",
    "y=interaction.cutenergy.(x)\n",
    "lines(x,y)\n"
   ]
  },
  {
   "cell_type": "code",
   "execution_count": 4,
   "metadata": {},
   "outputs": [
    {
     "name": "stdout",
     "output_type": "stream",
     "text": [
      "-32.02658138108412\n",
      "-32.02658138108412\n"
     ]
    }
   ],
   "source": [
    "println(cell_energy(cpcell,interaction))\n",
    "println(cell_energy(cpcell,interaction))"
   ]
  },
  {
   "cell_type": "code",
   "execution_count": 5,
   "metadata": {},
   "outputs": [],
   "source": [
    "el=Vector{Float64}([])\n",
    "lattice_constant = 3.61\n",
    "cl=1.3:0.02:2.5\n",
    "en=0\n",
    "fn=0\n",
    "fl=Vector{Float64}([])\n",
    "for lattice_constant in cl\n",
    "    # 定义铜的FCC晶胞的基矢量\n",
    "    lattice_vectors = (Matrix([\n",
    "        lattice_constant 0.0 0.0; #a1\n",
    "        0.0 lattice_constant 0.0; #a2\n",
    "        0.0 0.0 lattice_constant] #a3\n",
    "    ))\n",
    "    # 创建铜的原子列表\n",
    "    atoms = [Atom(pos) for pos in atom_positions]\n",
    "\n",
    "    cell=UnitCell(lattice_vectors,atoms)\n",
    "    cpcell=copycell(cell,3,3,3)\n",
    "    en=cell_energy0(cpcell,interaction,ifnormalize=true)\n",
    "    push!(el,en)\n",
    "    # fn=sum((cell_energy(cpcell,interaction)).^2)\n",
    "    # push!(fl,fn)\n",
    "    \n",
    "end\n"
   ]
  },
  {
   "cell_type": "code",
   "execution_count": 4,
   "metadata": {},
   "outputs": [
    {
     "ename": "UndefVarError",
     "evalue": "UndefVarError: `cl` not defined",
     "output_type": "error",
     "traceback": [
      "UndefVarError: `cl` not defined\n",
      "\n",
      "Stacktrace:\n",
      " [1] top-level scope\n",
      "   @ c:\\Users\\ASUS\\Desktop\\计算物理模拟实验\\Elastic constant simulation\\jl_notebook_cell_df34fa98e69747e1a8f8a730347b8e2f_W5sZmlsZQ==.jl:6"
     ]
    }
   ],
   "source": [
    "# 创建一个新的 Figure\n",
    "fig = Figure()\n",
    "\n",
    "# 创建一个 Axis，并设置坐标范围\n",
    "ax = Axis(fig[1, 1], title = \"Line Plot\", xlabel = \"X-Axis\", ylabel = \"Y-Axis\",\n",
    "          )\n",
    "vl=cl.^3*(cpcell.copy[1]*cpcell.copy[2]*cpcell.copy[3]);\n",
    "# lines!(ax,cl,fl)\n",
    "lines!(ax,cl,el)\n",
    "# ylims!(ax, -0.001, 0.001)\n",
    "\n",
    "fig"
   ]
  },
  {
   "cell_type": "code",
   "execution_count": 5,
   "metadata": {},
   "outputs": [
    {
     "data": {
      "text/plain": [
       "BMfit (generic function with 2 methods)"
      ]
     },
     "metadata": {},
     "output_type": "display_data"
    }
   ],
   "source": [
    "# 定义 Birch-Murnaghan 方程的函数\n",
    "function birch_murnaghan(V, p)\n",
    "    V0, B0, B0_prime, E0 = p\n",
    "    eta = (V0 ./ V).^(2/3)  # 使用广播运算符 ./\n",
    "    E = E0 .+ (9 * V0 * B0 / 16) .* ((eta .- 1).^3 .* B0_prime .+ (eta .- 1).^2 .* (6 .- 4 .* eta))\n",
    "    return E\n",
    "end\n",
    "\n",
    "function BMfit(cl,el,p0::Vector{Float64}=[1200.0, -10.0, 4.0, -1200.0])\n",
    "    fit = curve_fit(birch_murnaghan, vl, el, p0)\n",
    "\n",
    "    # 拟合结果\n",
    "    fitted_params = fit.param\n",
    "    min_lattice_constant = (fitted_params[1]/cpcell.copy[1]/cpcell.copy[2]/cpcell.copy[3])^(1/3)\n",
    "    println(\"Fitted parameters:\")\n",
    "    println(\"V0 = \", fitted_params[1])\n",
    "    println(\"B0 = \", fitted_params[2])\n",
    "    println(\"B0' = \", fitted_params[3])\n",
    "    println(\"E0 = \", fitted_params[4])\n",
    "    println(\"latticeconstant = \",min_lattice_constant )\n",
    "    fig = Figure()\n",
    "    fitfunc(x)=birch_murnaghan(x, fitted_params)\n",
    "    # 创建一个 Axis，并设置坐标范围\n",
    "    ax = Axis(fig[1, 1],xlabel=\"Volume\", ylabel=\"Energy\", title=\"Birch-Murnaghan EOS Fit\"\n",
    "              )\n",
    "    x=LinRange(minimum(vl),maximum(vl),1000)\n",
    "    scatter!(ax,vl,el,color=:red,label=\"Data\")\n",
    "    lines!(ax,x,fitfunc.(x),color=:blue,label=\"Fit\")\n",
    "    axislegend(ax, position=:rt)\n",
    "    fig\n",
    "    return min_lattice_constant,fig\n",
    "end"
   ]
  },
  {
   "cell_type": "code",
   "execution_count": 8,
   "metadata": {},
   "outputs": [
    {
     "name": "stdout",
     "output_type": "stream",
     "text": [
      "Fitted parameters:\n",
      "V0 = 326.7246123157035\n",
      "B0 = -5.046009356822658\n",
      "B0' = 2.820280876351377\n",
      "E0 = -141.49284306089007\n",
      "latticeconstant = 2.295828074709017"
     ]
    },
    {
     "name": "stderr",
     "output_type": "stream",
     "text": [
      "[39636:36992:1005/171519.272:ERROR:t_skinfilemap.cpp(63)] SGRenderLog:CheckUpdate newMem.OpenMem Suc, szNewMem:Local\\sgime_skin.Dpi144.v3.filemap.sogouime\n",
      "[39636:36992:1005/171519.272:ERROR:t_skinfilemap.cpp(65)] SGRenderLog:CheckUpdate finish: old version:1\n",
      "[39636:36992:1005/171519.272:ERROR:t_skinfilemap.cpp(67)] SGRenderLog:CheckUpdate finish: new version:3\n",
      "[39636:36992:1005/171519.323:ERROR:t_skinfilemap.cpp(63)] SGRenderLog:CheckUpdate newMem.OpenMem Suc, szNewMem:Local\\sgime_skin.Dpi144.v3.filemap.sogouime\n",
      "[39636:36992:1005/171519.323:ERROR:t_skinfilemap.cpp(65)] SGRenderLog:CheckUpdate finish: old version:3\n",
      "[39636:36992:1005/171519.323:ERROR:t_skinfilemap.cpp(67)] SGRenderLog:CheckUpdate finish: new version:3\n"
     ]
    },
    {
     "name": "stdout",
     "output_type": "stream",
     "text": [
      "\n"
     ]
    }
   ],
   "source": [
    "_,fig=BMfit(vl,el)\n",
    "fig"
   ]
  },
  {
   "cell_type": "code",
   "execution_count": 6,
   "metadata": {},
   "outputs": [
    {
     "data": {
      "text/plain": [
       "force_tensor (generic function with 1 method)"
      ]
     },
     "metadata": {},
     "output_type": "display_data"
    }
   ],
   "source": [
    "function cell_forceij(cell::UnitCell, interaction::Interaction, i::Int, j::Int)\n",
    "    cutoff = interaction.cutoff\n",
    "    atomi = cell.atoms[i]\n",
    "    atomj = cell.atoms[j]\n",
    "    bd=atomj.bound\n",
    "    cp = cell.copy\n",
    "    cni = atomi.cn\n",
    "    rij=atomj.position-atomi.position\n",
    "    for k in 1:3\n",
    "        rijk=rij[k]\n",
    "        cpk=cp[k]\n",
    "        if bd[k]==1\n",
    "            continue\n",
    "        end\n",
    "        if rijk>cpk/2\n",
    "                rij[k]=rijk-cpk\n",
    "        elseif rijk<-cpk/2\n",
    "                rij[k]=rijk+cpk\n",
    "        end\n",
    "    end\n",
    "    rij=cell.lattice_vectors*rij\n",
    "    nr=norm(rij)\n",
    "    if nr>cutoff\n",
    "        force=zeros(3)\n",
    "    else\n",
    "        force=interaction.cutforce(rij)\n",
    "    end\n",
    "\n",
    "    if any(isnan,force)\n",
    "        println(\"Warning the same atoms of atom $i j=$j lead to the nan force,please check their cn\")\n",
    "    end\n",
    "    return force\n",
    "end\n",
    "\n",
    "function cell_forcei(cell::UnitCell,interaction::Interaction,i::Int)\n",
    "    forcei=zeros(3)\n",
    "        for j in 1:length(cell.atoms)\n",
    "            if i!=j\n",
    "                forcei+=cell_forceij(cell,interaction,i,j)\n",
    "            end\n",
    "        end\n",
    "    return forcei\n",
    "end\n",
    "\n",
    "\n",
    "\n",
    "function force_tensor(cell::UnitCell,interaction::Interaction)\n",
    "    tensor=zeros(3,3)\n",
    "    v=cell.Volume\n",
    "    for a in 1:3\n",
    "        for b in 1:3\n",
    "            for i in 1:length(cell.atoms)\n",
    "                forcei=cell_forcei(cell,interaction,i)\n",
    "                atom=cell.atoms[i]\n",
    "                tensor[a,b]+=forcei[a]*atom.position[b]/2+atom.momentum[a]*atom.momentum[b]/atom.mass\n",
    "            end\n",
    "        end\n",
    "    end\n",
    "    return tensor./v\n",
    "end\n"
   ]
  },
  {
   "cell_type": "code",
   "execution_count": 7,
   "metadata": {},
   "outputs": [
    {
     "data": {
      "text/plain": [
       "symplectic_matrix (generic function with 1 method)"
      ]
     },
     "metadata": {},
     "output_type": "display_data"
    }
   ],
   "source": [
    "\n",
    "###MD\n",
    "function dUdV_default(r::Vector{Float64},v::Float64)\n",
    "    return 0.0\n",
    "end\n",
    "\n",
    "function pressure_int(cell::UnitCell,interaction::Interaction,dUdV::T=dUdV_default) where T\n",
    "    v=cell.Volume\n",
    "    Pint=0.0\n",
    "    for i in 1:length(cell.atoms)\n",
    "        atom=cell.atoms[i]\n",
    "        pm=atom.momentum\n",
    "        ri=atom.position\n",
    "        fi=cell_forcei(cell,interaction,i)\n",
    "        Pint+=dot(pm,pm)/atom.mass+dot(ri,fi)-3*v*dUdV(atom.position,v)   \n",
    "    end\n",
    "    return Pint/v/3\n",
    "    \n",
    "end\n",
    "\n",
    "\n",
    "struct Thermostat\n",
    "    T::Float64  # 目标温度\n",
    "    Q::Float64  # 热浴质量\n",
    "    Rt::Float64  # 热浴变量 (friction coefficient)\n",
    "    Pt::Float64  # 热浴动量\n",
    "end\n",
    "struct Barostat\n",
    "    Pe::Float64  # 目标压力\n",
    "    V::Float64  # 系统体积\n",
    "    W::Float64  # 压力浴质量\n",
    "    Pv::Float64  # 压力浴动量\n",
    "end\n",
    "\n",
    "\n",
    "function Hz(z::Vector{Float64},cell::UnitCell,interaction::Interaction,thermostat::Thermostat,barostat::Barostat,dUdV::T=dUdV_default) where T\n",
    "    \n",
    "    global kb\n",
    "    dim=3*length(cell.atoms)+2\n",
    "    Hz=zeros(dim*2)\n",
    "    natom=length(cell.atoms)\n",
    "    # if dim!=length(z)\n",
    "    #     throw(\"The dimension of z is not consist with the dimension of the system. z should be natom*3+2\")\n",
    "    # end\n",
    "    v=cell.Volume\n",
    "    W=barostat.W\n",
    "    Q=thermostat.Q\n",
    "    temp=thermostat.T\n",
    "    Pe=barostat.Pe\n",
    "    Pint=pressure_int(cell,interaction,dUdV)\n",
    "    addp=sum([dot(atom.momentum,atom.momentum)/atom.mass for atom in cell.atoms])\n",
    "    for i in 1:natom\n",
    "        atom=cell.atoms[i]\n",
    "        mi=atom.mass\n",
    "        Hz[3*i-2]=1/mi+z[2*dim]*z[3*i-2]/W\n",
    "        Hz[3*i-1]=1/mi+z[2*dim]*z[3*i-1]/W\n",
    "        Hz[3*i]=1/mi+z[2*dim]*z[3*i]/W\n",
    "        fi=cell_forcei(cell,interaction,i)\n",
    "        Hz[dim+3*i-2]=fi[1]-(1+1/natom)*z[2*dim]/W*z[dim+3*i-2]-z[2*dim-1]*z[2*dim]/Q\n",
    "        Hz[dim+3*i-1]=fi[2]-(1+1/natom)*z[2*dim]/W*z[dim+3*i-1]-z[2*dim-1]*z[2*dim]/Q\n",
    "        Hz[dim+3*i]=fi[3]-(1+1/natom)*z[2*dim]/W*z[dim+3*i]-z[2*dim-1]*z[2*dim]/Q\n",
    "        Hz[dim]=3*z[dim]*z[2*dim]/W\n",
    "        Hz[2*dim]=3*z[dim]*(Pint-Pe)+1/natom*addp-z[2*dim-1]*z[2*dim]/Q\n",
    "        Hz[dim-1]=z[2*dim-1]/Q\n",
    "        Hz[2*dim-1]=addp+z[2*dim]^2/W-(3*natom+1)*kb*temp\n",
    "    end\n",
    "    return Hz\n",
    "end\n",
    "\n",
    "function symplectic_matrix(n::Int)\n",
    "    I = Matrix{Float64}(I, n, n)  # 创建 n x n 的单位矩阵\n",
    "    O = zeros(Float64, n, n)      # 创建 n x n 的零矩阵\n",
    "    J = [O I; -I O]               # 使用块矩阵构建辛矩阵\n",
    "    return J\n",
    "end"
   ]
  },
  {
   "cell_type": "code",
   "execution_count": 8,
   "metadata": {},
   "outputs": [
    {
     "data": {
      "text/plain": [
       "RK3_step (generic function with 2 methods)"
      ]
     },
     "metadata": {},
     "output_type": "display_data"
    }
   ],
   "source": [
    "\n",
    "# 定义 symplectic_matrix 函数\n",
    "function symplectic_matrix(n::Int)\n",
    "    I = Matrix{Float64}(I, n, n)  # 创建 n x n 的单位矩阵\n",
    "    O = zeros(Float64, n, n)      # 创建 n x n 的零矩阵\n",
    "    J = [O I; -I O]               # 使用块矩阵构建辛矩阵\n",
    "    return J\n",
    "end\n",
    "\n",
    "# 定义 RK3 step\n",
    "function RK3_step(z::Vector{Float64},dt::Float64,cell::UnitCell, interaction::Interaction, thermostat::Thermostat, barostat::Barostat, dUdV::T = dUdV_default) where T\n",
    "    \n",
    "        k1=Hz(z,cell,interaction,thermostat,barostat,dUdV)\n",
    "        k2=Hz(z+dt/2*k1,cell,interaction,thermostat,barostat,dUdV)\n",
    "        k3=Hz(z-dt*k1+2*dt*k2,cell,interaction,thermostat,barostat,dUdV)\n",
    "            newz=z+dt/6*(k1+4*k2+k3)\n",
    "        zmod=similar(z)\n",
    "        a,b,c=cell.lattice_vectors*cell.copy\n",
    "        natom=length(cell.atoms)\n",
    "        for i in 1:natom\n",
    "            zmod[3*i-2]=mod(z[3*i-2],a)\n",
    "            zmod[3*i-1]=mod(z[3*i-1],b)\n",
    "            zmod[3*i]=mod(z[3*i],c)\n",
    "            zmod[3*natom+3*i]=mod(z[3*natom+3*i],a)\n",
    "            zmod[3*natom+3*i+1]=mod(z[3*natom+3*i+1],b)\n",
    "            zmod[3*natom+3*i+2]=mod(z[3*natom+3*i+2],c)\n",
    "        end\n",
    "    return newz\n",
    "end\n"
   ]
  },
  {
   "cell_type": "code",
   "execution_count": 51,
   "metadata": {},
   "outputs": [],
   "source": [
    "# 定义铜的晶格常数（单位：Å）\n",
    "lattice_constant =1.5\n",
    "\n",
    "# 定义铜的FCC晶胞的基矢量\n",
    "lattice_vectors = collect((Matrix([\n",
    "    lattice_constant 0.0 0.0; #a1\n",
    "    0.0 lattice_constant 0.0; #a2\n",
    "    0.0 0.0 lattice_constant] #a3\n",
    "))')\n",
    "\n",
    "# 定义铜的FCC晶胞中的原子位置（单位：Å）\n",
    "atom_positions = [\n",
    "    Vector([0.0, 0.0, 0.0]),\n",
    "    Vector([0.0, 0.5, 0.5]),\n",
    "    Vector([0.5, 0.0, 0.5]),\n",
    "    Vector([0.5, 0.5, 0.0]),\n",
    "    Vector([1.0, 0.0, 0.0]),\n",
    "    Vector([0.0, 1.0, 0.0]),\n",
    "    Vector([0.0, 0.0, 1.0]),\n",
    "    Vector([0.5, 1.0, 0.5]),\n",
    "    Vector([1.0, 0.5, 0.5]),\n",
    "    Vector([0.5, 0.5, 1.0]),\n",
    "    Vector([1.0, 0.0, 1.0]),\n",
    "    Vector([1.0, 1.0, 0.0]),\n",
    "    Vector([0.0, 1.0, 1.0]),\n",
    "    Vector([1.0, 1.0, 1.0])\n",
    "] \n",
    "\n",
    "# 创建铜的原子列表\n",
    "atoms = [Atom(pos) for pos in atom_positions]\n",
    "\n",
    "cell=UnitCell(lattice_vectors,atoms)\n",
    "cpcell=copycell(cell,3,3,3)\n",
    "thermostat = Thermostat(300.0, 1000.0, 0.1, 0.0)\n",
    "barostat=Barostat(0.0,cell.Volume,1000.0,0.0)\n",
    "rl=[cpcell.lattice_vectors*atom.position for atom in cpcell.atoms];\n",
    "pl=[atom.momentum for atom in cpcell.atoms];\n",
    "z=vcat(vcat(rl...),thermostat.Rt,barostat.V,vcat(pl...),thermostat.Pt,barostat.Pv);"
   ]
  },
  {
   "cell_type": "code",
   "execution_count": 49,
   "metadata": {},
   "outputs": [],
   "source": [
    "zl=[]\n",
    "for i in 1:10000\n",
    "    z=RK3_step(z,0.01,cpcell,interaction,thermostat,barostat)\n",
    "    push!(zl,z)\n",
    "end"
   ]
  },
  {
   "cell_type": "code",
   "execution_count": 50,
   "metadata": {},
   "outputs": [
    {
     "data": {
      "text/plain": [
       "z2cell (generic function with 1 method)"
      ]
     },
     "metadata": {},
     "output_type": "display_data"
    }
   ],
   "source": [
    "function z2atoms(z::Vector{Float64})\n",
    "    natom=Int((length(z)-4)/6)\n",
    "    rl=z[1:3*natom]\n",
    "    pl=z[3*natom+3:3*natom+3*natom+3]\n",
    "    atoms=Vector{Atom}(undef,natom)\n",
    "    for i in 1:natom\n",
    "        atom=Atom(rl[3*i-2:3*i],pl[3*i-2:3*i])\n",
    "        atoms[i]=atom\n",
    "    end\n",
    "    return atoms\n",
    "end\n",
    "\n",
    "function z2cell(z::Vector{Float64},lattice_vectors::Matrix{Float64})\n",
    "    atoms=z2atoms(z)\n",
    "    newcell=UnitCell(lattice_vectors,atoms)\n",
    "    return newcell\n",
    "end"
   ]
  },
  {
   "cell_type": "code",
   "execution_count": 38,
   "metadata": {},
   "outputs": [],
   "source": [
    "newcell=z2cell(zl[2],lattice_vectors)\n",
    "fig=visualize_unitcell_atoms0(newcell)\n"
   ]
  },
  {
   "cell_type": "code",
   "execution_count": 16,
   "metadata": {},
   "outputs": [
    {
     "data": {
      "text/plain": [
       "visualize_unitcell_atoms0"
      ]
     },
     "metadata": {},
     "output_type": "display_data"
    }
   ],
   "source": [
    "# 定义一个颜色映射函数\n",
    "function color_map(cn)\n",
    "    colors = [:red, :green, :blue, :yellow, :purple, :orange, :cyan, :magenta]\n",
    "    return colors[mod(cn - 1, length(colors)) + 1]\n",
    "end\n",
    "\"\"\"\n",
    "可视化晶胞原子\n",
    "\"\"\"\n",
    "function visualize_unitcell_atoms0(cell::UnitCell,markersize=10,veccolor=:blue,linewith=0.1)::Figure\n",
    "    fig =GLMakie.Figure(size = (800, 600))\n",
    "    ax = GLMakie.Axis3(fig[1, 1], title = \"Visualization of Atoms in the Unit Cell\", \n",
    "               xlabel = \"X\", ylabel = \"Y\", zlabel = \"Z\")\n",
    "    M=cell.lattice_vectors\n",
    "    for atom in cell.atoms\n",
    "        p=M*atom.position\n",
    "        cni=atom.cn\n",
    "        GLMakie.scatter!(ax,p..., color = color_map(cni), markersize = markersize)\n",
    "    end\n",
    "    return fig\n",
    "end"
   ]
  },
  {
   "cell_type": "code",
   "execution_count": 32,
   "metadata": {},
   "outputs": [
    {
     "data": {
      "text/plain": [
       "\"outputatom.mp4\""
      ]
     },
     "metadata": {},
     "output_type": "display_data"
    }
   ],
   "source": [
    "using Makie\n",
    "using FFMPEG\n",
    "\n",
    "# 假设func(i)是一个生成3D图的函数\n",
    "function func(i)\n",
    "    newcell=z2cell(zl[i],lattice_vectors)\n",
    "    fig=visualize_unitcell_atoms0(newcell)\n",
    "    return fig\n",
    "end\n",
    "\n",
    "function create_animation()\n",
    "    video_file = \"outputatom.mp4\"\n",
    "    n_frames = 1000\n",
    "    fps = 1\n",
    "    # 使用record函数生成动画\n",
    "    record(fig, video_file, 1:n_frames; framerate = fps) do i\n",
    "        func(i)\n",
    "    end\n",
    "end\n",
    "\n",
    "\n",
    "# 调用函数生成视频\n",
    "create_animation()\n"
   ]
  },
  {
   "cell_type": "code",
   "execution_count": 48,
   "metadata": {},
   "outputs": [
    {
     "data": {
      "text/plain": [
       "1036-element Vector{Float64}:\n",
       "  0.005\n",
       "  0.005\n",
       "  0.005\n",
       "  0.005\n",
       "  0.005\n",
       "  3.6149999999999993\n",
       "  0.005\n",
       "  0.005\n",
       "  7.225000000000001\n",
       "  0.005\n",
       "  ⋮\n",
       " -1.315188358369022e-46\n",
       " -1.315188358369022e-46\n",
       " -1.315188358369022e-46\n",
       " -1.315188358369022e-46\n",
       " -1.315188358369022e-46\n",
       " -1.315188358369022e-46\n",
       " -1.315188358369022e-46\n",
       " -1.0701899999999999e-20\n",
       " -7.373578663801878e-21"
      ]
     },
     "metadata": {},
     "output_type": "display_data"
    }
   ],
   "source": []
  },
  {
   "cell_type": "code",
   "execution_count": null,
   "metadata": {},
   "outputs": [],
   "source": []
  }
 ],
 "metadata": {
  "kernelspec": {
   "display_name": "Julia 1.10.5",
   "language": "julia",
   "name": "julia-1.10"
  },
  "language_info": {
   "file_extension": ".jl",
   "mimetype": "application/julia",
   "name": "julia",
   "version": "1.10.5"
  }
 },
 "nbformat": 4,
 "nbformat_minor": 2
}
