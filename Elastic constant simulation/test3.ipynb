{
 "cells": [
  {
   "cell_type": "code",
   "execution_count": 2,
   "metadata": {},
   "outputs": [],
   "source": [
    "using StaticArrays\n",
    "# using Plots\n",
    "using LinearAlgebra\n",
    "# using Makie\n",
    "using GLMakie \n",
    "using LsqFit\n",
    "include(\"Elastic.jl\")\n",
    "using .Elastic\n",
    "using FFMPEG"
   ]
  },
  {
   "cell_type": "code",
   "execution_count": 3,
   "metadata": {},
   "outputs": [],
   "source": [
    "# 定义铜的晶格常数（单位：Å）\n",
    "lattice_constant = 1.0\n",
    "\n",
    "# 定义铜的FCC晶胞的基矢量\n",
    "lattice_vectors = collect((Matrix([\n",
    "    lattice_constant 0.0 0.0; #a1\n",
    "    0.0 lattice_constant 0.0; #a2\n",
    "    0.0 0.0 lattice_constant] #a3\n",
    "))')\n",
    "\n",
    "# 定义铜的FCC晶胞中的原子位置（单位：Å）\n",
    "atom_positions = [\n",
    "    Vector([0.0, 0.0, 0.0]),\n",
    "    Vector([0.0, 0.5, 0.5]),\n",
    "    Vector([0.5, 0.0, 0.5]),\n",
    "    Vector([0.5, 0.5, 0.0]),\n",
    "    Vector([1.0, 0.0, 0.0]),\n",
    "    Vector([0.0, 1.0, 0.0]),\n",
    "    Vector([0.0, 0.0, 1.0]),\n",
    "    Vector([0.5, 1.0, 0.5]),\n",
    "    Vector([1.0, 0.5, 0.5]),\n",
    "    Vector([0.5, 0.5, 1.0]),\n",
    "    Vector([1.0, 0.0, 1.0]),\n",
    "    Vector([1.0, 1.0, 0.0]),\n",
    "    Vector([0.0, 1.0, 1.0]),\n",
    "    Vector([1.0, 1.0, 1.0])\n",
    "] \n",
    "\n",
    "# 创建铜的原子列表\n",
    "atoms = [Atom(pos) for pos in atom_positions]\n",
    "\n",
    "cell=UnitCell(lattice_vectors,atoms)\n",
    "cpcell=copycell(cell,3,3,3)\n",
    "fcell=filtercell(cpcell)\n",
    "fig=visualize_unitcell_atoms(fcell)"
   ]
  },
  {
   "cell_type": "code",
   "execution_count": 4,
   "metadata": {},
   "outputs": [],
   "source": [
    "#lj势能\n",
    "function lj(r::Float64)\n",
    "    return 4*(1/r^12-1/r^6)\n",
    "end\n",
    "function Flj(r::Vector{Float64})\n",
    "    rn=norm(r)\n",
    "    return 24*(2/rn^14-1/rn^8)*r\n",
    "end\n",
    "\n",
    "ct=5.0\n",
    "interaction = Interaction(lj, Flj, ct, 0.1)\n",
    "\n",
    "x=1:0.001:ct\n",
    "y=interaction.cutenergy.(x)\n",
    "lines(x,y)\n"
   ]
  },
  {
   "cell_type": "code",
   "execution_count": 5,
   "metadata": {},
   "outputs": [
    {
     "name": "stdout",
     "output_type": "stream",
     "text": [
      "-16.11425899299892\n"
     ]
    }
   ],
   "source": [
    "visualize_unitcell_atoms0(fcell,iftext=true)\n",
    "# cell_forcei!(fcell,interaction,1)\\\n",
    "println(pressure_int(fcell,interaction))"
   ]
  },
  {
   "cell_type": "code",
   "execution_count": 6,
   "metadata": {},
   "outputs": [],
   "source": [
    "el=Vector{Float64}([])\n",
    "lattice_constant = 3.61\n",
    "cl=1.3:0.02:2.5\n",
    "en=0\n",
    "fn=0\n",
    "fl=Vector{Float64}([])\n",
    "for lattice_constant in cl\n",
    "    # 定义铜的FCC晶胞的基矢量\n",
    "    lattice_vectors = (Matrix([\n",
    "        lattice_constant 0.0 0.0; #a1\n",
    "        0.0 lattice_constant 0.0; #a2\n",
    "        0.0 0.0 lattice_constant] #a3\n",
    "    ))\n",
    "    # 创建铜的原子列表\n",
    "    atoms = [Atom(pos) for pos in atom_positions]\n",
    "\n",
    "    cell=UnitCell(lattice_vectors,atoms)\n",
    "    cpcell=copycell(cell,3,3,3)\n",
    "    fcell=filtercell(cpcell)\n",
    "    en=cell_energy0(fcell,interaction,ifnormalize=false)\n",
    "    push!(el,en)\n",
    "    fn=sum((force_tensor(fcell,interaction)).^2)*fcell.Volume*27\n",
    "    push!(fl,fn)\n",
    "end\n"
   ]
  },
  {
   "cell_type": "code",
   "execution_count": 7,
   "metadata": {},
   "outputs": [
    {
     "name": "stdout",
     "output_type": "stream",
     "text": [
      "1.54\n",
      "-4251.40121010611\n",
      "[-0.015426277094542525 -5.323943190657902e-16 -1.1496604514712906e-16; 1.0031410602472923e-17 -0.015426277094543018 1.0371870598678063e-16; -7.903535626190786e-18 -6.505217784633956e-18 -0.015426277094543039]\n",
      "-0.03085255418908571\n"
     ]
    }
   ],
   "source": [
    "minlt=cl[argmin(el)]\n",
    "println(minlt)\n",
    "lattice_vectors = (Matrix([\n",
    "    minlt 0.0 0.0; #a1\n",
    "    0.0 minlt 0.0; #a2\n",
    "    0.0 0.0 minlt] #a3\n",
    "))\n",
    "atoms = [Atom(pos) for pos in atom_positions]\n",
    "cell=UnitCell(lattice_vectors,atoms)\n",
    "cpcell=copycell(cell,  5,5,5)\n",
    "fcell=filtercell(cpcell)\n",
    "println(cell_energy0(fcell,interaction,ifnormalize=false))\n",
    "println(force_tensor(fcell,interaction))\n",
    "println(pressure_int(fcell,interaction))\n",
    "\n"
   ]
  },
  {
   "cell_type": "code",
   "execution_count": 7,
   "metadata": {},
   "outputs": [],
   "source": [
    "# 创建一个新的 Figure\n",
    "fig = Figure()\n",
    "\n",
    "# 创建一个 Axis，并设置坐标范围\n",
    "ax = Axis(fig[1, 1], title = \"Line Plot\", xlabel = \"X-Axis\", ylabel = \"Y-Axis\",\n",
    "          )\n",
    "vl=cl.^3*(cpcell.copy[1]*cpcell.copy[2]*cpcell.copy[3]);\n",
    "# lines!(ax,cl,fl)\n",
    "lines!(ax,cl,fl)\n",
    "# ylims!(ax, -0.001, 0.001)\n",
    "\n",
    "fig"
   ]
  },
  {
   "cell_type": "code",
   "execution_count": 9,
   "metadata": {},
   "outputs": [],
   "source": [
    "# _,fig=BMfit(vl,el,cpcell)\n",
    "# fig"
   ]
  },
  {
   "cell_type": "code",
   "execution_count": 8,
   "metadata": {},
   "outputs": [
    {
     "name": "stdout",
     "output_type": "stream",
     "text": [
      "-0.03085255418908571\n"
     ]
    }
   ],
   "source": [
    "thermostat = Thermostat(300.0, 10.0, 0.1, 0.0)\n",
    "barostat=Barostat(10.0,fcell.Volume,10.0,0.0)\n",
    "println(pressure_int(fcell,interaction))\n",
    "z=cell2z(fcell,thermostat,barostat);"
   ]
  },
  {
   "cell_type": "code",
   "execution_count": 9,
   "metadata": {},
   "outputs": [
    {
     "name": "stdout",
     "output_type": "stream",
     "text": [
      "1\n",
      "2\n",
      "3\n",
      "4\n",
      "5\n",
      "6\n",
      "7\n",
      "8\n",
      "9\n",
      "10\n",
      "11\n",
      "12\n",
      "13\n",
      "14\n",
      "15\n",
      "16\n",
      "17\n",
      "18\n",
      "19\n",
      "20\n",
      "21\n",
      "22\n",
      "23\n",
      "24\n",
      "25\n",
      "26\n",
      "27\n",
      "28\n",
      "29\n",
      "30\n",
      "31\n",
      "32\n",
      "33\n",
      "34\n",
      "35\n",
      "36\n",
      "37\n",
      "38\n",
      "39\n",
      "40\n",
      "41\n",
      "42\n",
      "43\n",
      "44\n"
     ]
    },
    {
     "ename": "String",
     "evalue": "\"Warning the same atoms of atom 1 j=2 lead to the nan force,please check their cn\"",
     "output_type": "error",
     "traceback": [
      "\"Warning the same atoms of atom 1 j=2 lead to the nan force,please check their cn\"\n",
      "\n",
      "Stacktrace:\n",
      " [1] cell_forceij(cell::UnitCell, interaction::Interaction{typeof(lj), typeof(Flj), Main.Elastic.Model.var\"#cutenergy#3\"{typeof(lj), Float64, Float64, Float64, Float64, Float64, Float64}, Main.Elastic.Model.var\"#cutforce#4\"{typeof(Flj), Float64, Float64, Float64, Float64, Float64}}, i::Int64, j::Int64)\n",
      "   @ Main.Elastic.Model c:\\Users\\ASUS\\Desktop\\计算物理模拟实验\\Elastic constant simulation\\modle.jl:457\n",
      " [2] cell_forcei(cell::UnitCell, interaction::Interaction{typeof(lj), typeof(Flj), Main.Elastic.Model.var\"#cutenergy#3\"{typeof(lj), Float64, Float64, Float64, Float64, Float64, Float64}, Main.Elastic.Model.var\"#cutforce#4\"{typeof(Flj), Float64, Float64, Float64, Float64, Float64}}, i::Int64)\n",
      "   @ Main.Elastic.Model c:\\Users\\ASUS\\Desktop\\计算物理模拟实验\\Elastic constant simulation\\modle.jl:472\n",
      " [3] pressure_int(cell::UnitCell, interaction::Interaction{typeof(lj), typeof(Flj), Main.Elastic.Model.var\"#cutenergy#3\"{typeof(lj), Float64, Float64, Float64, Float64, Float64, Float64}, Main.Elastic.Model.var\"#cutforce#4\"{typeof(Flj), Float64, Float64, Float64, Float64, Float64}}, dUdV::typeof(dUdV_default))\n",
      "   @ Main.Elastic.MD c:\\Users\\ASUS\\Desktop\\计算物理模拟实验\\Elastic constant simulation\\MD.jl:40\n",
      " [4] Hz(z::Vector{Float64}, cell::UnitCell, interaction::Interaction{typeof(lj), typeof(Flj), Main.Elastic.Model.var\"#cutenergy#3\"{typeof(lj), Float64, Float64, Float64, Float64, Float64, Float64}, Main.Elastic.Model.var\"#cutforce#4\"{typeof(Flj), Float64, Float64, Float64, Float64, Float64}}, thermostat::Thermostat, barostat::Barostat, dUdV::typeof(dUdV_default))\n",
      "   @ Main.Elastic.MD c:\\Users\\ASUS\\Desktop\\计算物理模拟实验\\Elastic constant simulation\\MD.jl:97\n",
      " [5] RK3_step(z::Vector{Float64}, dt::Float64, cell::UnitCell, interaction::Interaction{typeof(lj), typeof(Flj), Main.Elastic.Model.var\"#cutenergy#3\"{typeof(lj), Float64, Float64, Float64, Float64, Float64, Float64}, Main.Elastic.Model.var\"#cutforce#4\"{typeof(Flj), Float64, Float64, Float64, Float64, Float64}}, thermostat::Thermostat, barostat::Barostat, dUdV::typeof(dUdV_default))\n",
      "   @ Main.Elastic.MD c:\\Users\\ASUS\\Desktop\\计算物理模拟实验\\Elastic constant simulation\\MD.jl:140\n",
      " [6] top-level scope\n",
      "   @ c:\\Users\\ASUS\\Desktop\\计算物理模拟实验\\Elastic constant simulation\\jl_notebook_cell_df34fa98e69747e1a8f8a730347b8e2f_X12sZmlsZQ==.jl:5"
     ]
    }
   ],
   "source": [
    "zl=[]\n",
    "tpcell=fcell\n",
    "z=cell2z(tpcell,thermostat,barostat)\n",
    "for i in 1:50\n",
    "    z=RK3_step(z,0.001,tpcell,interaction,thermostat,barostat)\n",
    "    tpcell=z2cell(z,tpcell)\n",
    "    println(i)\n",
    "    push!(zl,z)\n",
    "end"
   ]
  },
  {
   "cell_type": "code",
   "execution_count": 24,
   "metadata": {},
   "outputs": [
    {
     "name": "stdout",
     "output_type": "stream",
     "text": [
      "-0.30220943404868755\n",
      "6.093869169885035e24\n"
     ]
    }
   ],
   "source": [
    "newcell=z2cell(zl[5],fcell)\n",
    "println(pressure_int(newcell,interaction))\n",
    "println(cell_temp(newcell))\n",
    "fig=visualize_unitcell_atoms(newcell)\n",
    "fig"
   ]
  },
  {
   "cell_type": "code",
   "execution_count": 30,
   "metadata": {},
   "outputs": [],
   "source": [
    "fig=Figure()\n",
    "ax = Axis(fig[1, 1], title = \"Line Plot\", xlabel = \"X-Axis\", ylabel = \"Y-Axis\",\n",
    "          )\n",
    "pl=[]\n",
    "for i in 1:30\n",
    "    newcell=z2cell(zl[i],fcell)\n",
    "    p=pressure_int(newcell,interaction)\n",
    "    push!(pl,p)\n",
    "    \n",
    "\n",
    "end\n",
    "ax=lines!(ax,1:30,pl)\n",
    "fig"
   ]
  },
  {
   "cell_type": "code",
   "execution_count": 31,
   "metadata": {},
   "outputs": [
    {
     "data": {
      "text/plain": [
       "30-element Vector{Any}:\n",
       "   32.916434866204284\n",
       "   38.8118237293084\n",
       "   44.56859162355443\n",
       "   40.95635822687711\n",
       "   -0.30220943404868755\n",
       " -297.6194741064018\n",
       "  -27.332853576423727\n",
       "   45.13593251811479\n",
       "   53.57315927265436\n",
       "   61.881076283118595\n",
       "    ⋮\n",
       " -379.976359092918\n",
       "  -59.83063490967683\n",
       "   19.714008102857868\n",
       "   35.08665764244202\n",
       "   58.85087823243603\n",
       "   91.22304418488007\n",
       "  125.39316623910855\n",
       "  149.99593632365404\n",
       "  153.5295777443471"
      ]
     },
     "metadata": {},
     "output_type": "display_data"
    }
   ],
   "source": [
    "pl"
   ]
  },
  {
   "cell_type": "code",
   "execution_count": 58,
   "metadata": {},
   "outputs": [],
   "source": [
    "# Hz(z,fcell,interaction,thermostat,barostat)\n"
   ]
  },
  {
   "cell_type": "code",
   "execution_count": 49,
   "metadata": {},
   "outputs": [
    {
     "data": {
      "text/plain": [
       "func (generic function with 1 method)"
      ]
     },
     "metadata": {},
     "output_type": "display_data"
    }
   ],
   "source": [
    "\n",
    "# 假设func(i)是一个生成3D图的函数\n",
    "function func(i)\n",
    "    newcell=z2cell(zl[i],fcell)\n",
    "    fig=visualize_unitcell_atoms(newcell)\n",
    "    return fig\n",
    "end\n",
    "\n",
    "# function create_animation()\n",
    "#     video_file = \"outputatom.mp4\"\n",
    "#     n_frames = 100\n",
    "#     fps = 1\n",
    "#     # 使用record函数生成动画\n",
    "#     record(fig, video_file, 1:n_frames; framerate = fps) do i\n",
    "#         fig=func(i)\n",
    "#         println(\"Frame $i\")\n",
    "#     end\n",
    "# end\n",
    "\n",
    "\n",
    "# # 调用函数生成视频\n",
    "# create_animation()"
   ]
  },
  {
   "cell_type": "code",
   "execution_count": 50,
   "metadata": {},
   "outputs": [],
   "source": [
    "outputfold = \"outputfold\"\n",
    "isdir(outputfold) || mkpath(outputfold)\n",
    "for i in 1:100\n",
    "    fig=func(i)\n",
    "    save(joinpath(outputfold, \"frame$i.png\"), fig)\n",
    "end"
   ]
  },
  {
   "cell_type": "code",
   "execution_count": 11,
   "metadata": {},
   "outputs": [
    {
     "data": {
      "text/plain": [
       "cell_temp (generic function with 1 method)"
      ]
     },
     "metadata": {},
     "output_type": "display_data"
    }
   ],
   "source": [
    "function cell_temp(cell::UnitCell)\n",
    "    kb=1.38e-23\n",
    "    Ek=0.0\n",
    "    for atom in cell.atoms\n",
    "        p=atom.momentum\n",
    "        Ek+=sum(p.^2)/(atom.mass)\n",
    "    end\n",
    "    return 2*Ek/(3*kb*length(cell.atoms))    \n",
    "end"
   ]
  },
  {
   "cell_type": "code",
   "execution_count": 31,
   "metadata": {},
   "outputs": [
    {
     "data": {
      "text/plain": [
       "7.962750934821664e18"
      ]
     },
     "metadata": {},
     "output_type": "display_data"
    }
   ],
   "source": [
    "cell_temp(newcell)"
   ]
  },
  {
   "cell_type": "code",
   "execution_count": null,
   "metadata": {},
   "outputs": [],
   "source": []
  }
 ],
 "metadata": {
  "kernelspec": {
   "display_name": "Julia 1.10.5",
   "language": "julia",
   "name": "julia-1.10"
  },
  "language_info": {
   "file_extension": ".jl",
   "mimetype": "application/julia",
   "name": "julia",
   "version": "1.10.5"
  }
 },
 "nbformat": 4,
 "nbformat_minor": 2
}
