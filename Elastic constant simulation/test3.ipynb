{
 "cells": [
  {
   "cell_type": "code",
   "execution_count": 1,
   "metadata": {},
   "outputs": [],
   "source": [
    "using StaticArrays\n",
    "# using Plots\n",
    "using LinearAlgebra\n",
    "# using Makie\n",
    "using GLMakie \n",
    "using LsqFit\n",
    "include(\"Elastic.jl\")\n",
    "using .Elastic\n",
    "using FFMPEG"
   ]
  },
  {
   "cell_type": "code",
   "execution_count": 2,
   "metadata": {},
   "outputs": [],
   "source": [
    "# 定义铜的晶格常数（单位：Å）\n",
    "lattice_constant = 1.5\n",
    "\n",
    "# 定义铜的FCC晶胞的基矢量\n",
    "lattice_vectors = collect((Matrix([\n",
    "    lattice_constant 0.0 0.0; #a1\n",
    "    0.0 lattice_constant 0.0; #a2\n",
    "    0.0 0.0 lattice_constant] #a3\n",
    "))')\n",
    "\n",
    "# 定义铜的FCC晶胞中的原子位置（单位：Å）\n",
    "atom_positions = [\n",
    "    Vector([0.0, 0.0, 0.0]),\n",
    "    Vector([0.0, 0.5, 0.5]),\n",
    "    Vector([0.5, 0.0, 0.5]),\n",
    "    Vector([0.5, 0.5, 0.0]),\n",
    "    Vector([1.0, 0.0, 0.0]),\n",
    "    Vector([0.0, 1.0, 0.0]),\n",
    "    Vector([0.0, 0.0, 1.0]),\n",
    "    Vector([0.5, 1.0, 0.5]),\n",
    "    Vector([1.0, 0.5, 0.5]),\n",
    "    Vector([0.5, 0.5, 1.0]),\n",
    "    Vector([1.0, 0.0, 1.0]),\n",
    "    Vector([1.0, 1.0, 0.0]),\n",
    "    Vector([0.0, 1.0, 1.0]),\n",
    "    Vector([1.0, 1.0, 1.0])\n",
    "] \n",
    "\n",
    "# 创建铜的原子列表\n",
    "atoms = [Atom(pos) for pos in atom_positions]\n",
    "\n",
    "cell=UnitCell(lattice_vectors,atoms)\n",
    "cpcell=copycell(cell,3,3,3)\n",
    "fig=visualize_unitcell_atoms(cpcell)"
   ]
  },
  {
   "cell_type": "code",
   "execution_count": 3,
   "metadata": {},
   "outputs": [],
   "source": [
    "#lj势能\n",
    "function lj(r::Float64)\n",
    "    return 4*(1/r^12-1/r^6)\n",
    "end\n",
    "function Flj(r::Vector{Float64})\n",
    "    rn=norm(r)\n",
    "    return 24*(2/rn^14-1/rn^8)*r\n",
    "end\n",
    "\n",
    "ct=5.0\n",
    "interaction = Interaction(lj, Flj, ct, 0.1)\n",
    "\n",
    "x=1:0.001:ct\n",
    "y=interaction.cutenergy.(x)\n",
    "lines(x,y)"
   ]
  },
  {
   "cell_type": "code",
   "execution_count": 4,
   "metadata": {},
   "outputs": [],
   "source": [
    "el=Vector{Float64}([])\n",
    "lattice_constant = 3.61\n",
    "cl=1.3:0.02:2.5\n",
    "en=0\n",
    "fn=0\n",
    "fl=Vector{Float64}([])\n",
    "for lattice_constant in cl\n",
    "    # 定义铜的FCC晶胞的基矢量\n",
    "    lattice_vectors = (Matrix([\n",
    "        lattice_constant 0.0 0.0; #a1\n",
    "        0.0 lattice_constant 0.0; #a2\n",
    "        0.0 0.0 lattice_constant] #a3\n",
    "    ))\n",
    "    # 创建铜的原子列表\n",
    "    atoms = [Atom(pos) for pos in atom_positions]\n",
    "\n",
    "    cell=UnitCell(lattice_vectors,atoms)\n",
    "    cpcell=copycell(cell,3,3,3)\n",
    "    en=cell_energy0(cpcell,interaction,ifnormalize=true)\n",
    "    push!(el,en)\n",
    "    # fn=sum((cell_energy(cpcell,interaction)).^2)\n",
    "    # push!(fl,fn)\n",
    "    \n",
    "end\n"
   ]
  },
  {
   "cell_type": "code",
   "execution_count": 5,
   "metadata": {},
   "outputs": [],
   "source": [
    "# 创建一个新的 Figure\n",
    "fig = Figure()\n",
    "\n",
    "# 创建一个 Axis，并设置坐标范围\n",
    "ax = Axis(fig[1, 1], title = \"Line Plot\", xlabel = \"X-Axis\", ylabel = \"Y-Axis\",\n",
    "          )\n",
    "vl=cl.^3*(cpcell.copy[1]*cpcell.copy[2]*cpcell.copy[3]);\n",
    "# lines!(ax,cl,fl)\n",
    "lines!(ax,cl,el)\n",
    "# ylims!(ax, -0.001, 0.001)\n",
    "\n",
    "fig"
   ]
  },
  {
   "cell_type": "code",
   "execution_count": 6,
   "metadata": {},
   "outputs": [
    {
     "name": "stdout",
     "output_type": "stream",
     "text": [
      "Fitted parameters:\n",
      "V0 = 326.7246123157035\n",
      "B0 = -5.046009356822658\n",
      "B0' = 2.820280876351377\n",
      "E0 = -141.49284306089007\n",
      "latticeconstant = 2.295828074709017\n"
     ]
    },
    {
     "name": "stderr",
     "output_type": "stream",
     "text": [
      "[13676:7644:1005/200811.349:ERROR:t_skinfilemap.cpp(63)] SGRenderLog:CheckUpdate newMem.OpenMem Suc, szNewMem:Local\\sgime_skin.Dpi144.v3.filemap.sogouime\n",
      "[13676:7644:1005/200811.349:ERROR:t_skinfilemap.cpp(65)] SGRenderLog:CheckUpdate finish: old version:1\n",
      "[13676:7644:1005/200811.349:ERROR:t_skinfilemap.cpp(67)] SGRenderLog:CheckUpdate finish: new version:3\n",
      "[13676:7644:1005/200811.397:ERROR:t_skinfilemap.cpp(63)] SGRenderLog:CheckUpdate newMem.OpenMem Suc, szNewMem:Local\\sgime_skin.Dpi144.v3.filemap.sogouime\n",
      "[13676:7644:1005/200811.397:ERROR:t_skinfilemap.cpp(65)] SGRenderLog:CheckUpdate finish: old version:3\n",
      "[13676:7644:1005/200811.398:ERROR:t_skinfilemap.cpp(67)] SGRenderLog:CheckUpdate finish: new version:3\n"
     ]
    }
   ],
   "source": [
    "_,fig=BMfit(vl,el,cpcell)\n",
    "fig"
   ]
  },
  {
   "cell_type": "code",
   "execution_count": 7,
   "metadata": {},
   "outputs": [],
   "source": [
    "thermostat = Thermostat(300.0, 1000.0, 0.1, 0.0)\n",
    "barostat=Barostat(0.0,cell.Volume,1000.0,0.0)\n",
    "z=cell2z(cpcell,thermostat,barostat);"
   ]
  },
  {
   "cell_type": "code",
   "execution_count": null,
   "metadata": {},
   "outputs": [],
   "source": [
    "zl=[]\n",
    "for i in 1:10000\n",
    "    z=RK3_step(z,0.01,cpcell,interaction,thermostat,barostat)\n",
    "    push!(zl,z)\n",
    "end"
   ]
  },
  {
   "cell_type": "code",
   "execution_count": 19,
   "metadata": {},
   "outputs": [],
   "source": [
    "newcell=z2cell(zl[2],lattice_vectors)\n",
    "fig=visualize_unitcell_atoms0(newcell)"
   ]
  },
  {
   "cell_type": "code",
   "execution_count": null,
   "metadata": {},
   "outputs": [],
   "source": [
    "\n",
    "# 假设func(i)是一个生成3D图的函数\n",
    "function func(i)\n",
    "    newcell=z2cell(zl[i],lattice_vectors)\n",
    "    fig=visualize_unitcell_atoms0(newcell)\n",
    "    return fig\n",
    "end\n",
    "\n",
    "function create_animation()\n",
    "    video_file = \"outputatom.mp4\"\n",
    "    n_frames = 1000\n",
    "    fps = 1\n",
    "    # 使用record函数生成动画\n",
    "    record(fig, video_file, 1:n_frames; framerate = fps) do i\n",
    "        func(i)\n",
    "    end\n",
    "end\n",
    "\n",
    "\n",
    "# 调用函数生成视频\n",
    "create_animation()"
   ]
  },
  {
   "cell_type": "code",
   "execution_count": null,
   "metadata": {},
   "outputs": [],
   "source": []
  }
 ],
 "metadata": {
  "kernelspec": {
   "display_name": "Julia 1.10.5",
   "language": "julia",
   "name": "julia-1.10"
  },
  "language_info": {
   "file_extension": ".jl",
   "mimetype": "application/julia",
   "name": "julia",
   "version": "1.10.5"
  }
 },
 "nbformat": 4,
 "nbformat_minor": 2
}
