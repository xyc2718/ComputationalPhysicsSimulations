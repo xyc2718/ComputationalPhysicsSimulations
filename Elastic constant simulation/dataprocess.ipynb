{
 "cells": [
  {
   "cell_type": "code",
   "execution_count": 1,
   "metadata": {},
   "outputs": [
    {
     "ename": "SystemError",
     "evalue": "SystemError: opening file \"Elastic.jl\": No such file or directory",
     "output_type": "error",
     "traceback": [
      "SystemError: opening file \"Elastic.jl\": No such file or directory\n",
      "\n",
      "Stacktrace:\n",
      "  [1] systemerror(p::String, errno::Int32; extrainfo::Nothing)\n",
      "    @ Base .\\error.jl:176\n",
      "  [2] systemerror\n",
      "    @ .\\error.jl:175 [inlined]\n",
      "  [3] open(fname::String; lock::Bool, read::Nothing, write::Nothing, create::Nothing, truncate::Nothing, append::Nothing)\n",
      "    @ Base .\\iostream.jl:293\n",
      "  [4] open\n",
      "    @ .\\iostream.jl:275 [inlined]\n",
      "  [5] open(f::Base.var\"#433#434\"{String}, args::String; kwargs::@Kwargs{})\n",
      "    @ Base .\\io.jl:394\n",
      "  [6] open\n",
      "    @ .\\io.jl:393 [inlined]\n",
      "  [7] read\n",
      "    @ .\\io.jl:486 [inlined]\n",
      "  [8] _include(mapexpr::Function, mod::Module, _path::String)\n",
      "    @ Base .\\loading.jl:2132\n",
      "  [9] include(fname::String)\n",
      "    @ Base.MainInclude .\\client.jl:489\n",
      " [10] top-level scope\n",
      "    @ jl_notebook_cell_df34fa98e69747e1a8f8a730347b8e2f_W0sdW50aXRsZWQ=.jl:7"
     ]
    }
   ],
   "source": [
    "using StaticArrays\n",
    "# using Plots\n",
    "using LinearAlgebra\n",
    "# using Makie\n",
    "using GLMakie \n",
    "using LsqFit\n",
    "include(\"Elastic.jl\")\n",
    "using .Elastic\n",
    "using FFMPEG\n",
    "using DelimitedFiles"
   ]
  },
  {
   "cell_type": "code",
   "execution_count": null,
   "metadata": {},
   "outputs": [],
   "source": [
    "\n",
    "\n",
    "# 读取文件中的所有数据\n",
    "data = readdlm(\"z_vectors.txt\")\n",
    "\n",
    "# 将数据分割成多个 z 向量\n",
    "z_vectors = []\n",
    "current_z = []\n",
    "\n",
    "for row in data\n",
    "    if isempty(row)\n",
    "        # 遇到空行时，将当前 z 向量添加到 z_vectors 中\n",
    "        push!(z_vectors, current_z)\n",
    "        current_z = []\n",
    "    else\n",
    "        # 将当前行添加到当前 z 向量中\n",
    "        push!(current_z, row)\n",
    "    end\n",
    "end\n",
    "\n",
    "# 添加最后一个 z 向量\n",
    "if !isempty(current_z)\n",
    "    push!(z_vectors, current_z)\n",
    "end\n",
    "\n",
    "# z_vectors 现在包含了所有的 z 向量\n"
   ]
  }
 ],
 "metadata": {
  "kernelspec": {
   "display_name": "Julia 1.10.5",
   "language": "julia",
   "name": "julia-1.10"
  },
  "language_info": {
   "file_extension": ".jl",
   "mimetype": "application/julia",
   "name": "julia",
   "version": "1.10.5"
  }
 },
 "nbformat": 4,
 "nbformat_minor": 2
}
