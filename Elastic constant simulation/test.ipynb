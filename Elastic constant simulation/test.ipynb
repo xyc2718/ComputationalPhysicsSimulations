{
 "cells": [
  {
   "cell_type": "code",
   "execution_count": 6,
   "metadata": {},
   "outputs": [
    {
     "data": {
      "text/plain": [
       "visualize_unitcell_atoms (generic function with 5 methods)"
      ]
     },
     "metadata": {},
     "output_type": "display_data"
    }
   ],
   "source": [
    "using StaticArrays\n",
    "# using Plots\n",
    "using LinearAlgebra\n",
    "# using Makie\n",
    "using GLMakie \n",
    "# 定义铜的晶格常数（单位：Å）\n",
    "lattice_constant = 3.61\n",
    "\n",
    "# 定义铜的FCC晶胞的基矢量\n",
    "lattice_vectors = (Matrix([\n",
    "    lattice_constant 0.0 0.0; #a1\n",
    "    0.0 lattice_constant 0.0; #a2\n",
    "    0.0 0.0 lattice_constant] #a3\n",
    "))'\n",
    "\n",
    "\n",
    "# 定义原子类型\n",
    "struct Atom\n",
    "    element::String\n",
    "    position::Vector{Float64}\n",
    "    cn::Int\n",
    "    function Atom(element,position,cn)\n",
    "        new(element,position,cn)\n",
    "    end\n",
    "    function Atom(element,position)\n",
    "        new(element,position,1)\n",
    "    end\n",
    "end\n",
    "\n",
    "\n",
    "# 定义晶胞类型\n",
    "struct UnitCell\n",
    "    lattice_vectors::Matrix{Float64}\n",
    "    atoms::Vector{Atom}\n",
    "    copy::Vector{Int}\n",
    "    Volume::Float64\n",
    "    function UnitCell(lattice_vectors::Matrix{Float64}, atoms::Vector{Atom}, copy::Vector{Int})\n",
    "        v=copy[1]*copy[2]*copy[3]*det(lattice_vectors)\n",
    "        new(lattice_vectors, atoms,copy,v)\n",
    "    end\n",
    "    function UnitCell(lattice_vectors::Matrix{Float64}, atoms::Vector{Atom})\n",
    "        new(lattice_vectors, atoms, Vector([1,1,1]))\n",
    "    end\n",
    "    function UnitCell(lattice_vectors::Adjoint{Float64, Matrix{Float64}}, atoms::Vector{Atom})\n",
    "        new(lattice_vectors, atoms, Vector([1,1,1]))\n",
    "    end\n",
    "end\n",
    "\n",
    "function cell_energy(cell::UnitCell,cut_off::Float64=10.0)\n",
    "    energy=0.0\n",
    "    for i in 1:length(cell.atoms)\n",
    "        for j in i+1:length(cell.atoms)\n",
    "            energy+=atoms_energe(cell.atoms[i],cell.atoms[j],cell.lattice_vectors,cut_off)\n",
    "        end\n",
    "    end\n",
    "    return energy\n",
    "end\n",
    "\n",
    "function copycell(cell::UnitCell,a::Int,b::Int,c::Int,tol::Float64=0.001)::UnitCell\n",
    "    atoms=Vector{Atom}([])\n",
    "    pl=Vector{Vector{Float64}}([])\n",
    "    for atom in cell.atoms\n",
    "        for i in 0:a-1\n",
    "            for j in 0:b-1\n",
    "                for k in 0:c-1\n",
    "                    newp=atom.position+Vector([i,j,k])\n",
    "                    if newp in pl\n",
    "                        continue\n",
    "                    end\n",
    "                    if (newp==[0.0,0.0,0.0]||newp==[1.0*a,1.0*b,1.0*c])\n",
    "                        cn=8\n",
    "                    elseif count(x -> abs(x) < tol, newp)==2\n",
    "                        cn=4\n",
    "                    elseif count(x -> abs(x) < tol, newp)==1\n",
    "                        cn=2\n",
    "                    else\n",
    "                        cn=1 \n",
    "                    end\n",
    "\n",
    "                    push!(atoms,Atom(atom.element,newp,cn))\n",
    "                    push!(pl,newp)\n",
    "                end\n",
    "            end\n",
    "        end      \n",
    "    end\n",
    "    \n",
    "    return UnitCell(cell.lattice_vectors,atoms,Vector([a,b,c]))\n",
    "end\n",
    "\n",
    "\n",
    "# 定义一个函数来可视化晶胞内的原子\n",
    "function visualize_unitcell_atoms(cell::UnitCell,atomcolor=:red,markersize=10,veccolor=:blue,linewith=0.1)::Figure\n",
    "    fig =GLMakie.Figure(size = (800, 600))\n",
    "    ax = GLMakie.Axis3(fig[1, 1], title = \"Visualization of Atoms in the Unit Cell\", \n",
    "               xlabel = \"X\", ylabel = \"Y\", zlabel = \"Z\")\n",
    "    M=cell.lattice_vectors\n",
    "    for atom in cell.atoms\n",
    "        p=M*atom.position\n",
    "        GLMakie.scatter!(ax,p..., color = atomcolor, markersize = markersize)\n",
    "    end\n",
    "    \n",
    "    # 绘制晶格向量（晶胞的边缘）\n",
    "    origin=GLMakie.Point3f0(0,0,0)\n",
    "    for (k,vec) in enumerate(eachcol(cell.lattice_vectors))\n",
    "        vc=GLMakie.Point3f0(vec*cell.copy[k])\n",
    "        GLMakie.arrows!(ax, [origin], [origin + vec], color = veccolor, linewidth = linewith)\n",
    "    end\n",
    "    rg=maximum(cell.lattice_vectors*cell.copy)\n",
    "    xlims!(ax, 0, rg)\n",
    "    ylims!(ax, 0, rg)\n",
    "    zlims!(ax, 0, rg)\n",
    "    return fig\n",
    "end"
   ]
  },
  {
   "cell_type": "code",
   "execution_count": 7,
   "metadata": {},
   "outputs": [
    {
     "data": {
      "text/plain": [
       "true"
      ]
     },
     "metadata": {},
     "output_type": "display_data"
    }
   ],
   "source": [
    "vc=Vector([0.0,0.0,0.0])\n",
    "vc==[0.0,0.0,0.0]"
   ]
  },
  {
   "cell_type": "code",
   "execution_count": 8,
   "metadata": {},
   "outputs": [],
   "source": [
    "# 定义一个泛型结构体 Interaction\n",
    "struct Interaction{F1, F2, F3, F4}\n",
    "    energe::F1  # 势能函数\n",
    "    force::F2   # 力函数\n",
    "    cutenerge::F3  # 截断势能函数\n",
    "    cutforce::F4   # 截断力函数\n",
    "    cutoff::Float64  # 截断距离\n",
    "    cutrg::Float64   # 截断范围\n",
    "\n",
    "\n",
    "    # 定义构造函数\n",
    "    function Interaction(energe::F1, force::F2, cutoff::Float64, cutrg::Float64) where {F1, F2}\n",
    "        \n",
    "\n",
    "        # 初始化截断势能和力的参数\n",
    "        Er1 = 0\n",
    "        dU1 = 0\n",
    "        Er2 = energe(cutoff - cutrg)\n",
    "        dU2 = (force(Vector([cutoff - cutrg,0,0])))[1]\n",
    "        a = -(dU2 - dU1) / (2 * cutrg)\n",
    "        b = -2 * a * (cutoff )\n",
    "        c = Er1 - a * (cutoff)^2 - b * (cutoff)\n",
    "\n",
    "        # 定义截断势能函数\n",
    "        function cutenerge(r::Float64)\n",
    "            nr = r\n",
    "            if nr > cutoff\n",
    "                return 0.0\n",
    "            elseif nr < cutoff - cutrg\n",
    "                return energe(r)\n",
    "            else\n",
    "                return a * nr^2 + b * nr + c\n",
    "            end\n",
    "        end\n",
    "\n",
    "        # 定义截断力函数，接收向量输入\n",
    "        function cutforce(r::Vector{Float64})\n",
    "            nr = norm(r)\n",
    "            if nr > cutoff\n",
    "                return Vector(zeros(3))\n",
    "            elseif nr < cutoff - cutrg\n",
    "                return force(r)\n",
    "            else\n",
    "                return ((2 * a * nr + b) / nr) * r\n",
    "            end\n",
    "        end\n",
    "\n",
    "        # 定义截断力函数的重载，使其可以接收 Float64 类型的输入\n",
    "        cutforce(r::Float64) = (cutforce(Vector([r, 0, 0])))[1]\n",
    "\n",
    "        # 返回新的 Interaction 实例\n",
    "        new{F1, F2, typeof(cutenerge), typeof(cutforce)}(energe, force, cutenerge, cutforce, cutoff, cutrg)\n",
    "    end\n",
    "end\n"
   ]
  },
  {
   "cell_type": "code",
   "execution_count": 9,
   "metadata": {},
   "outputs": [],
   "source": [
    "# 定义铜的晶格常数（单位：Å）\n",
    "lattice_constant = 3.61\n",
    "\n",
    "# 定义铜的FCC晶胞的基矢量\n",
    "lattice_vectors = (Matrix([\n",
    "    lattice_constant 0.0 0.0; #a1\n",
    "    0.0 lattice_constant 0.0; #a2\n",
    "    0.0 0.0 lattice_constant] #a3\n",
    "))'\n",
    "\n",
    "# 定义铜的FCC晶胞中的原子位置（单位：Å）\n",
    "atom_positions = [\n",
    "    Vector([0.0, 0.0, 0.0]),\n",
    "    Vector([0.0, 0.5, 0.5]),\n",
    "    Vector([0.5, 0.0, 0.5]),\n",
    "    Vector([0.5, 0.5, 0.0]),\n",
    "    Vector([1.0, 0.0, 0.0]),\n",
    "    Vector([0.0, 1.0, 0.0]),\n",
    "    Vector([0.0, 0.0, 1.0]),\n",
    "    Vector([0.5, 1.0, 0.5]),\n",
    "    Vector([1.0, 0.5, 0.5]),\n",
    "    Vector([0.5, 0.5, 1.0]),\n",
    "    Vector([1.0, 0.0, 1.0]),\n",
    "    Vector([1.0, 1.0, 0.0]),\n",
    "    Vector([0.0, 1.0, 1.0]),\n",
    "    Vector([1.0, 1.0, 1.0])\n",
    "] \n",
    "\n",
    "# 创建铜的原子列表\n",
    "atoms = [Atom(\"Cu\", pos) for pos in atom_positions]\n",
    "\n",
    "cell=UnitCell(lattice_vectors,atoms)\n",
    "cpcell=copycell(cell,2,2,1)\n",
    "fig=visualize_unitcell_atoms(cpcell);"
   ]
  },
  {
   "cell_type": "code",
   "execution_count": 10,
   "metadata": {},
   "outputs": [
    {
     "data": {
      "text/plain": [
       "UnitCell([3.61 0.0 0.0; 0.0 3.61 0.0; 0.0 0.0 3.61], Atom[Atom(\"Cu\", [0.0, 0.0, 0.0], 8), Atom(\"Cu\", [0.0, 1.0, 0.0], 4), Atom(\"Cu\", [1.0, 0.0, 0.0], 4), Atom(\"Cu\", [1.0, 1.0, 0.0], 2), Atom(\"Cu\", [0.0, 0.5, 0.5], 2), Atom(\"Cu\", [0.0, 1.5, 0.5], 2), Atom(\"Cu\", [1.0, 0.5, 0.5], 1), Atom(\"Cu\", [1.0, 1.5, 0.5], 1), Atom(\"Cu\", [0.5, 0.0, 0.5], 2), Atom(\"Cu\", [0.5, 1.0, 0.5], 1)  …  Atom(\"Cu\", [0.5, 0.5, 1.0], 1), Atom(\"Cu\", [0.5, 1.5, 1.0], 1), Atom(\"Cu\", [1.5, 0.5, 1.0], 1), Atom(\"Cu\", [1.5, 1.5, 1.0], 1), Atom(\"Cu\", [2.0, 0.0, 1.0], 2), Atom(\"Cu\", [2.0, 1.0, 1.0], 1), Atom(\"Cu\", [2.0, 2.0, 0.0], 2), Atom(\"Cu\", [0.0, 2.0, 1.0], 2), Atom(\"Cu\", [1.0, 2.0, 1.0], 1), Atom(\"Cu\", [2.0, 2.0, 1.0], 8)], [2, 2, 1], 188.18352399999998)"
      ]
     },
     "metadata": {},
     "output_type": "display_data"
    }
   ],
   "source": [
    "cpcell"
   ]
  },
  {
   "cell_type": "code",
   "execution_count": 63,
   "metadata": {},
   "outputs": [],
   "source": [
    "#lj势能\n",
    "function lj(r::Float64)\n",
    "    return 4*(1/r^12-1/r^6)  \n",
    "end\n",
    "function Flj(r::Vector{Float64})\n",
    "    rn=norm(r)\n",
    "    return 24*(2/rn^14-1/rn^8)*r\n",
    "end\n",
    "\n",
    "\n",
    "interaction = Interaction(lj, Flj, 3.0, 2.0)\n",
    "\n",
    "x=0.8:0.01:5\n",
    "y=interaction.cutforce.(x)\n",
    "lines(x,y)"
   ]
  },
  {
   "cell_type": "code",
   "execution_count": 7,
   "metadata": {},
   "outputs": [
    {
     "name": "stdout",
     "output_type": "stream",
     "text": [
      "```\n",
      "count_zeros(x::Integer) -> Integer\n",
      "```\n",
      "\n",
      "Number of zeros in the binary representation of `x`.\n",
      "\n",
      "# Examples\n",
      "\n",
      "```jldoctest\n",
      "julia> count_zeros(Int32(2 ^ 16 - 1))\n",
      "16\n",
      "\n",
      "julia> count_zeros(-1)\n",
      "0\n",
      "```\n"
     ]
    }
   ],
   "source": []
  },
  {
   "cell_type": "code",
   "execution_count": 23,
   "metadata": {},
   "outputs": [
    {
     "name": "stdout",
     "output_type": "stream",
     "text": [
      "2\n"
     ]
    }
   ],
   "source": [
    "vec = [1e-5, 0.01, -0.001, 0.02, -1e-6]  # 示例向量\n",
    "tol = 0.001  # 设置阈值\n",
    "\n",
    "num_small_elements = count(x -> abs(x) < tol, vec)  # 计算绝对值小于eps的元素个数\n",
    "println(num_small_elements)\n",
    "\n"
   ]
  },
  {
   "cell_type": "code",
   "execution_count": 23,
   "metadata": {},
   "outputs": [],
   "source": []
  },
  {
   "cell_type": "code",
   "execution_count": null,
   "metadata": {},
   "outputs": [],
   "source": []
  }
 ],
 "metadata": {
  "kernelspec": {
   "display_name": "Julia 1.10.5",
   "language": "julia",
   "name": "julia-1.10"
  },
  "language_info": {
   "file_extension": ".jl",
   "mimetype": "application/julia",
   "name": "julia",
   "version": "1.10.5"
  }
 },
 "nbformat": 4,
 "nbformat_minor": 2
}
